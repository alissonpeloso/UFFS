{
 "cells": [
  {
   "cell_type": "markdown",
   "metadata": {},
   "source": [
    "# Gradiente Descendente\n",
    "\n",
    "O gradiente descendente é um algoritmo de otimização que usa as derivadas da função objetivo\n",
    "para encontrar o ponto com maior inclinação. No processo, as variáveis a otimizar são deslocadas\n",
    "em uma direção negativa o qual reduzirá o valor da função objetivo.\n",
    "\n",
    "Algoritmo geral para atualizar os pesos com gradiente descendente:\n",
    "<p>\n",
    "<img src='RNA-Gradiente.png' /><br>\n",
    "</p>"
   ]
  },
  {
   "cell_type": "markdown",
   "metadata": {},
   "source": [
    "## Vamos implementar o algoritmo do Gradiente Descendente!\n",
    "#### Importando a biblioteca"
   ]
  },
  {
   "cell_type": "code",
   "execution_count": 12,
   "metadata": {},
   "outputs": [],
   "source": [
    "import numpy as np"
   ]
  },
  {
   "cell_type": "markdown",
   "metadata": {},
   "source": [
    "#### Função do cáculo da sigmóide"
   ]
  },
  {
   "cell_type": "code",
   "execution_count": 13,
   "metadata": {},
   "outputs": [],
   "source": [
    "def sigmoid(x):\n",
    "    return 1/(1+np.exp(-x))"
   ]
  },
  {
   "cell_type": "markdown",
   "metadata": {},
   "source": [
    "#### Derivada da função sigmóide"
   ]
  },
  {
   "cell_type": "code",
   "execution_count": 14,
   "metadata": {},
   "outputs": [],
   "source": [
    "#termo de erro\n",
    "def sigmoid_prime(x):\n",
    "        return sigmoid(x) * (1 - sigmoid(x))"
   ]
  },
  {
   "cell_type": "markdown",
   "metadata": {},
   "source": [
    "#### Vetor dos valores de entrada e saídas"
   ]
  },
  {
   "cell_type": "code",
   "execution_count": 15,
   "metadata": {},
   "outputs": [],
   "source": [
    "x = np.array([1, 2, 3, 4])\n",
    "y = np.array(0.5)\n",
    "b = 0.5"
   ]
  },
  {
   "cell_type": "markdown",
   "metadata": {},
   "source": [
    "#### Pesos iniciais das ligações sinápticas \n",
    "Nota: Inicializados aleatóriamente"
   ]
  },
  {
   "cell_type": "code",
   "execution_count": 16,
   "metadata": {},
   "outputs": [],
   "source": [
    "# Pesos iniciais\n",
    "w = np.array([0.5, -0.5, 0.3, 0.1])"
   ]
  },
  {
   "cell_type": "markdown",
   "metadata": {},
   "source": [
    "#### Taxa de Aprendizagem"
   ]
  },
  {
   "cell_type": "code",
   "execution_count": 17,
   "metadata": {},
   "outputs": [],
   "source": [
    "learnrate = 0.5"
   ]
  },
  {
   "cell_type": "markdown",
   "metadata": {},
   "source": [
    "### Calcule um degrau de descida gradiente para cada peso"
   ]
  },
  {
   "cell_type": "code",
   "execution_count": 18,
   "metadata": {},
   "outputs": [],
   "source": [
    "# TODO: Calcule a combinação linear de entradas e pesos sinápticos\n",
    "h = np.dot(x,w) + b\n",
    "\n",
    "# TODO: Calcule a saída da Rede Neural\n",
    "nn_output = sigmoid(h)\n",
    "\n",
    "# TODO: Calcule o erro da Rede Neural\n",
    "error = y - nn_output\n",
    "\n",
    "# TODO: Calcule o termo de erro\n",
    "error_term = error * sigmoid_prime(h)\n",
    "\n",
    "# TODO: Calcule a variação do peso\n",
    "del_w = learnrate * error_term * x\n"
   ]
  },
  {
   "cell_type": "code",
   "execution_count": 19,
   "metadata": {},
   "outputs": [
    {
     "name": "stdout",
     "output_type": "stream",
     "text": [
      "Saída da Rede Neural:\n",
      "0.7858349830425586\n",
      "\n",
      "\n",
      "Erro:\n",
      "-0.2858349830425586\n",
      "\n",
      "\n",
      "Variação dos pesos:\n",
      "[-0.02405278 -0.04810556 -0.07215834 -0.09621112]\n"
     ]
    }
   ],
   "source": [
    "print('Saída da Rede Neural:')\n",
    "print(nn_output)\n",
    "print('\\n\\nErro:')\n",
    "print(error)\n",
    "print('\\n\\nVariação dos pesos:')\n",
    "print(del_w)"
   ]
  },
  {
   "cell_type": "markdown",
   "metadata": {},
   "source": [
    "---"
   ]
  },
  {
   "cell_type": "code",
   "execution_count": 20,
   "metadata": {},
   "outputs": [
    {
     "name": "stdout",
     "output_type": "stream",
     "text": [
      "Saída da Rede Neural:\n",
      "0.6407029861341647\n",
      "\n",
      "\n",
      "Erro:\n",
      "-0.14070298613416465\n",
      "\n",
      "\n",
      "Variação dos pesos:\n",
      "[-0.0161951  -0.0323902  -0.0485853  -0.06478041]\n"
     ]
    }
   ],
   "source": [
    "w = w + del_w\n",
    "\n",
    "h = np.dot(x,w)+b\n",
    "\n",
    "nn_output = sigmoid(h)\n",
    "\n",
    "error = y - nn_output\n",
    "\n",
    "error_term = error * sigmoid_prime(h)\n",
    "\n",
    "del_w = learnrate * error_term * x\n",
    "\n",
    "print('Saída da Rede Neural:')\n",
    "print(nn_output)\n",
    "print('\\n\\nErro:')\n",
    "print(error)\n",
    "print('\\n\\nVariação dos pesos:')\n",
    "print(del_w)"
   ]
  },
  {
   "cell_type": "markdown",
   "metadata": {},
   "source": [
    "---"
   ]
  },
  {
   "cell_type": "code",
   "execution_count": 21,
   "metadata": {},
   "outputs": [
    {
     "name": "stdout",
     "output_type": "stream",
     "text": [
      "Saída da Rede Neural:\n",
      "0.5231243816830907\n",
      "\n",
      "\n",
      "Erro:\n",
      "-0.023124381683090722\n",
      "\n",
      "\n",
      "Variação dos pesos:\n",
      "[-0.00288436 -0.00576873 -0.00865309 -0.01153746]\n"
     ]
    }
   ],
   "source": [
    "w = w + del_w\n",
    "\n",
    "h = np.dot(x,w)+b\n",
    "\n",
    "nn_output = sigmoid(h)\n",
    "\n",
    "error = y - nn_output\n",
    "\n",
    "error_term = error * sigmoid_prime(h)\n",
    "\n",
    "del_w = learnrate * error_term * x\n",
    "\n",
    "print('Saída da Rede Neural:')\n",
    "print(nn_output)\n",
    "print('\\n\\nErro:')\n",
    "print(error)\n",
    "print('\\n\\nVariação dos pesos:')\n",
    "print(del_w)"
   ]
  },
  {
   "cell_type": "code",
   "execution_count": null,
   "metadata": {},
   "outputs": [],
   "source": []
  }
 ],
 "metadata": {
  "kernelspec": {
   "display_name": "Python 3 (ipykernel)",
   "language": "python",
   "name": "python3"
  },
  "language_info": {
   "codemirror_mode": {
    "name": "ipython",
    "version": 3
   },
   "file_extension": ".py",
   "mimetype": "text/x-python",
   "name": "python",
   "nbconvert_exporter": "python",
   "pygments_lexer": "ipython3",
   "version": "3.9.12"
  }
 },
 "nbformat": 4,
 "nbformat_minor": 2
}
