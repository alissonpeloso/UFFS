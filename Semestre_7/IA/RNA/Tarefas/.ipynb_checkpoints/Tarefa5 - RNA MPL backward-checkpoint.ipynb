{
 "cells": [
  {
   "cell_type": "markdown",
   "metadata": {},
   "source": [
    "# Rede Neural Multicamadas (MPL)\n",
    "Uma rede MPL é uma classe de rede neural artificial *feedforward* (ANN). Um MLP consiste em pelo menos três camadas de nós: uma camada de entrada , uma camada oculta e uma camada de saída . Exceto para os nós de entrada, cada nó é um neurônio que usa uma função de ativação não linear . O MLP utiliza uma técnica de aprendizado supervisionado chamada *backpropagation* para treinamento.\n",
    "\n",
    "\n",
    "\n",
    "### Implementando uma RNA multicamadas\n",
    "\n",
    "A imagem a seguir mostra a nossa rede, com as unidades de entrada marcadas como Input1, Input2 e Input3 (**Input Layer**) conectadas com os *nós* da camada oculta (**Hidden Layer**). Por sua vez as saída dos *nós* da camada oculda servem como entrada para os *nós*  da camada de saída (**Output Layer**). <img src='MPL.png' /><br>\n",
    "\n",
    "<p style=\"text-align:center\">  <i> Diagrama de uma MPL</i> </p>\n",
    " \n",
    "\n",
    "Lembrando que em cada *nó* temos: \n",
    "\n",
    "$$f(h) = sigmoid(h)=\\frac 1 {1+e^{-h}}$$  \n",
    "\n",
    "onde\n",
    "\n",
    "<p style=\"text-align:center\"> $$h = \\frac 1n\\sum_{i=1}^n(w_i*x_i)+b$$  </p>\n",
    "\n",
    "\n",
    "\n",
    "\n",
    "    \n",
    "\n"
   ]
  },
  {
   "cell_type": "markdown",
   "metadata": {},
   "source": [
    "## Configuração da MPL"
   ]
  },
  {
   "cell_type": "code",
   "execution_count": 5,
   "metadata": {},
   "outputs": [],
   "source": [
    "#Importando a biblioteca\n",
    "import numpy as np\n",
    "\n",
    "#Função do cáculo da sigmóide\n",
    "def sigmoid(x):\n",
    "    return 1/(1+np.exp(-x))\n",
    "\n",
    "#Arquitetura da MPL\n",
    "N_input = 3\n",
    "N_hidden = 4\n",
    "N_output = 2\n",
    "\n",
    "#Vetor dos valores de entrada\n",
    "x = np.array([0.5, 0.1, -0.2])\n",
    "target =np.array([0.3, 0.8])\n",
    "learnrate = 0.5\n",
    "\n",
    "#Pesos da Camada Oculta\n",
    "\n",
    "weights_input_hidden = np.array([[-0.08,  0.08, -0.03, 0.03],\n",
    "                              [ 0.05,  0.10,  0.07, 0.02],\n",
    "                              [-0.07,  0.04, -0.01, 0.01]])\n",
    "\n",
    "#Pesos da Camada de Saída\n",
    "weights_hidden_output = np.array([[-0.18,  0.11],\n",
    "                               [-0.09,  0.05],\n",
    "                               [-0.04,  0.05],\n",
    "                               [-0.02,  0.07]])\n",
    "\n"
   ]
  },
  {
   "cell_type": "markdown",
   "metadata": {},
   "source": [
    "### Forward Pass"
   ]
  },
  {
   "cell_type": "code",
   "execution_count": 6,
   "metadata": {
    "scrolled": true
   },
   "outputs": [
    {
     "name": "stdout",
     "output_type": "stream",
     "text": [
      "As saídas da rede são [0.45883963 0.53497652]\n"
     ]
    }
   ],
   "source": [
    "#Camada oculta\n",
    "\n",
    "#Calcule a combinação linear de entradas e pesos sinápticos\n",
    "hidden_layer_input = np.dot(x, weights_input_hidden)\n",
    "#Aplicado a função de ativação\n",
    "hidden_layer_output = sigmoid(hidden_layer_input)\n",
    "\n",
    "#Camada de Saída\n",
    "\n",
    "#Calcule a combinação linear de entradas e pesos sinápticos\n",
    "output_layer_in = np.dot(hidden_layer_output, weights_hidden_output)\n",
    "\n",
    "#Aplicado a função de ativação \n",
    "output = sigmoid(output_layer_in)\n",
    "\n",
    "print('As saídas da rede são',output)\n"
   ]
  },
  {
   "cell_type": "markdown",
   "metadata": {},
   "source": [
    "## Backward Pass"
   ]
  },
  {
   "cell_type": "code",
   "execution_count": 7,
   "metadata": {
    "scrolled": true
   },
   "outputs": [
    {
     "name": "stdout",
     "output_type": "stream",
     "text": [
      "Erro da Rede:  [-0.15883963  0.26502348]\n",
      "output_error_term:  [-0.03944081  0.06593165]\n",
      "hidden_error:  [0.01435183 0.00684626 0.00487421 0.00540403]\n",
      "hidden_error_term:  [0.00358756 0.00171081 0.00121854 0.00135093]\n",
      "delta_w_h_o:  [[-0.01951335  0.0326197 ]\n",
      " [-0.02013447  0.03365801]\n",
      " [-0.01966124  0.03286693]\n",
      " [-0.0198683   0.03321307]]\n",
      "delta_w_i_h:  [[ 0.00179378  0.0008554   0.00060927  0.00067547]\n",
      " [ 0.00035876  0.00017108  0.00012185  0.00013509]\n",
      " [-0.00071751 -0.00034216 -0.00024371 -0.00027019]]\n"
     ]
    }
   ],
   "source": [
    "\n",
    "## TODO: Cálculo do Erro\n",
    "error = target - output\n",
    "print('Erro da Rede: ',error)\n",
    "\n",
    "# TODO: Calcule o termo de erro de saída (Gradiente da Camada de Saída)\n",
    "output_error_term = error * output * (1 - output)\n",
    "print('output_error_term: ',output_error_term)\n",
    "\n",
    "# TODO: Calcule a contribuição da camada oculta para o erro\n",
    "hidden_error = np.dot(weights_hidden_output, output_error_term)\n",
    "print('hidden_error: ',hidden_error)\n",
    "\n",
    "# TODO: Calcule o termo de erro da camada oculta (Gradiente da Camada Oculta)\n",
    "hidden_error_term = hidden_error * hidden_layer_output * (1 - hidden_layer_output)\n",
    "print('hidden_error_term: ',hidden_error_term)\n",
    "\n",
    "# TODO: Calcule a variação do peso da camada de saída\n",
    "delta_w_h_o = output_error_term*hidden_layer_output[:, None]\n",
    "print('delta_w_h_o: ',delta_w_h_o)\n",
    "\n",
    "# TODO: Calcule a variação do peso da camada oculta\n",
    "delta_w_i_h = hidden_error_term * x[:, None]\n",
    "print('delta_w_i_h: ',delta_w_i_h)\n",
    "\n"
   ]
  },
  {
   "cell_type": "markdown",
   "metadata": {},
   "source": [
    "### Atualização dos Pesos"
   ]
  },
  {
   "cell_type": "code",
   "execution_count": 8,
   "metadata": {},
   "outputs": [
    {
     "name": "stdout",
     "output_type": "stream",
     "text": [
      "weights_input_hidden:  [[ 8.96890297e-04  4.27702305e-04  3.04635689e-04  3.37732992e-04]\n",
      " [ 1.79378059e-04  8.55404611e-05  6.09271378e-05  6.75465983e-05]\n",
      " [-3.58756119e-04 -1.71080922e-04 -1.21854276e-04 -1.35093197e-04]]\n",
      "weights_hidden_output:  [[-0.00975667  0.01630985]\n",
      " [-0.01006724  0.016829  ]\n",
      " [-0.00983062  0.01643346]\n",
      " [-0.00993415  0.01660653]]\n"
     ]
    }
   ],
   "source": [
    "weights_input_hidden = learnrate * delta_w_i_h\n",
    "print('weights_input_hidden: ',weights_input_hidden)\n",
    "weights_hidden_output = learnrate * delta_w_h_o\n",
    "print('weights_hidden_output: ',weights_hidden_output)"
   ]
  },
  {
   "cell_type": "code",
   "execution_count": null,
   "metadata": {},
   "outputs": [],
   "source": []
  },
  {
   "cell_type": "code",
   "execution_count": null,
   "metadata": {},
   "outputs": [],
   "source": []
  }
 ],
 "metadata": {
  "kernelspec": {
   "display_name": "Python 3 (ipykernel)",
   "language": "python",
   "name": "python3"
  },
  "language_info": {
   "codemirror_mode": {
    "name": "ipython",
    "version": 3
   },
   "file_extension": ".py",
   "mimetype": "text/x-python",
   "name": "python",
   "nbconvert_exporter": "python",
   "pygments_lexer": "ipython3",
   "version": "3.9.12"
  }
 },
 "nbformat": 4,
 "nbformat_minor": 2
}
