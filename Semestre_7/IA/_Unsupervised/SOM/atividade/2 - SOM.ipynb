{
 "cells": [
  {
   "cell_type": "markdown",
   "metadata": {},
   "source": [
    "# Mapas Auto organizáveis de Kohonen"
   ]
  },
  {
   "cell_type": "markdown",
   "metadata": {},
   "source": [
    "# **Vamos começar!**\n",
    "Baixar no UCI Machine Learning Repository um repositório de sua escolha **.csv*. Como exemplo, na pasta /solucoes temos uma SOM para análise química de vinhos cultivados na mesma região da Itália, vamos preparar nosso ambiente com as bibliotecas necessárias e depois importaremos os dados!\n",
    "\n",
    "## Importando as bibliotecas"
   ]
  },
  {
   "cell_type": "code",
   "execution_count": 97,
   "metadata": {},
   "outputs": [],
   "source": [
    "# instalar a biblioteca <minsom> *no Anaconda Prompt digite <> pip install minisom\n",
    "from minisom import MiniSom  \n",
    "import pandas as pd\n",
    "import numpy as np"
   ]
  },
  {
   "cell_type": "code",
   "execution_count": 98,
   "metadata": {},
   "outputs": [],
   "source": [
    "base = pd.read_csv('iris.data')"
   ]
  },
  {
   "cell_type": "markdown",
   "metadata": {},
   "source": [
    "### Camada de entrada e rótulos para validação"
   ]
  },
  {
   "cell_type": "code",
   "execution_count": 99,
   "metadata": {},
   "outputs": [
    {
     "data": {
      "text/html": [
       "<div>\n",
       "<style scoped>\n",
       "    .dataframe tbody tr th:only-of-type {\n",
       "        vertical-align: middle;\n",
       "    }\n",
       "\n",
       "    .dataframe tbody tr th {\n",
       "        vertical-align: top;\n",
       "    }\n",
       "\n",
       "    .dataframe thead th {\n",
       "        text-align: right;\n",
       "    }\n",
       "</style>\n",
       "<table border=\"1\" class=\"dataframe\">\n",
       "  <thead>\n",
       "    <tr style=\"text-align: right;\">\n",
       "      <th></th>\n",
       "      <th>sepal_length</th>\n",
       "      <th>sepal_width</th>\n",
       "      <th>petal_length</th>\n",
       "      <th>petal_width</th>\n",
       "      <th>class</th>\n",
       "    </tr>\n",
       "  </thead>\n",
       "  <tbody>\n",
       "    <tr>\n",
       "      <th>0</th>\n",
       "      <td>5.1</td>\n",
       "      <td>3.5</td>\n",
       "      <td>1.4</td>\n",
       "      <td>0.2</td>\n",
       "      <td>Iris-setosa</td>\n",
       "    </tr>\n",
       "    <tr>\n",
       "      <th>1</th>\n",
       "      <td>4.9</td>\n",
       "      <td>3.0</td>\n",
       "      <td>1.4</td>\n",
       "      <td>0.2</td>\n",
       "      <td>Iris-setosa</td>\n",
       "    </tr>\n",
       "    <tr>\n",
       "      <th>2</th>\n",
       "      <td>4.7</td>\n",
       "      <td>3.2</td>\n",
       "      <td>1.3</td>\n",
       "      <td>0.2</td>\n",
       "      <td>Iris-setosa</td>\n",
       "    </tr>\n",
       "    <tr>\n",
       "      <th>3</th>\n",
       "      <td>4.6</td>\n",
       "      <td>3.1</td>\n",
       "      <td>1.5</td>\n",
       "      <td>0.2</td>\n",
       "      <td>Iris-setosa</td>\n",
       "    </tr>\n",
       "    <tr>\n",
       "      <th>4</th>\n",
       "      <td>5.0</td>\n",
       "      <td>3.6</td>\n",
       "      <td>1.4</td>\n",
       "      <td>0.2</td>\n",
       "      <td>Iris-setosa</td>\n",
       "    </tr>\n",
       "    <tr>\n",
       "      <th>...</th>\n",
       "      <td>...</td>\n",
       "      <td>...</td>\n",
       "      <td>...</td>\n",
       "      <td>...</td>\n",
       "      <td>...</td>\n",
       "    </tr>\n",
       "    <tr>\n",
       "      <th>145</th>\n",
       "      <td>6.7</td>\n",
       "      <td>3.0</td>\n",
       "      <td>5.2</td>\n",
       "      <td>2.3</td>\n",
       "      <td>Iris-virginica</td>\n",
       "    </tr>\n",
       "    <tr>\n",
       "      <th>146</th>\n",
       "      <td>6.3</td>\n",
       "      <td>2.5</td>\n",
       "      <td>5.0</td>\n",
       "      <td>1.9</td>\n",
       "      <td>Iris-virginica</td>\n",
       "    </tr>\n",
       "    <tr>\n",
       "      <th>147</th>\n",
       "      <td>6.5</td>\n",
       "      <td>3.0</td>\n",
       "      <td>5.2</td>\n",
       "      <td>2.0</td>\n",
       "      <td>Iris-virginica</td>\n",
       "    </tr>\n",
       "    <tr>\n",
       "      <th>148</th>\n",
       "      <td>6.2</td>\n",
       "      <td>3.4</td>\n",
       "      <td>5.4</td>\n",
       "      <td>2.3</td>\n",
       "      <td>Iris-virginica</td>\n",
       "    </tr>\n",
       "    <tr>\n",
       "      <th>149</th>\n",
       "      <td>5.9</td>\n",
       "      <td>3.0</td>\n",
       "      <td>5.1</td>\n",
       "      <td>1.8</td>\n",
       "      <td>Iris-virginica</td>\n",
       "    </tr>\n",
       "  </tbody>\n",
       "</table>\n",
       "<p>150 rows × 5 columns</p>\n",
       "</div>"
      ],
      "text/plain": [
       "     sepal_length  sepal_width  petal_length  petal_width           class\n",
       "0             5.1          3.5           1.4          0.2     Iris-setosa\n",
       "1             4.9          3.0           1.4          0.2     Iris-setosa\n",
       "2             4.7          3.2           1.3          0.2     Iris-setosa\n",
       "3             4.6          3.1           1.5          0.2     Iris-setosa\n",
       "4             5.0          3.6           1.4          0.2     Iris-setosa\n",
       "..            ...          ...           ...          ...             ...\n",
       "145           6.7          3.0           5.2          2.3  Iris-virginica\n",
       "146           6.3          2.5           5.0          1.9  Iris-virginica\n",
       "147           6.5          3.0           5.2          2.0  Iris-virginica\n",
       "148           6.2          3.4           5.4          2.3  Iris-virginica\n",
       "149           5.9          3.0           5.1          1.8  Iris-virginica\n",
       "\n",
       "[150 rows x 5 columns]"
      ]
     },
     "execution_count": 99,
     "metadata": {},
     "output_type": "execute_result"
    }
   ],
   "source": [
    "base.head(200)"
   ]
  },
  {
   "cell_type": "code",
   "execution_count": 100,
   "metadata": {},
   "outputs": [
    {
     "data": {
      "text/plain": [
       "array(['Iris-setosa', 'Iris-setosa', 'Iris-setosa', 'Iris-setosa',\n",
       "       'Iris-setosa', 'Iris-setosa', 'Iris-setosa', 'Iris-setosa',\n",
       "       'Iris-setosa', 'Iris-setosa', 'Iris-setosa', 'Iris-setosa',\n",
       "       'Iris-setosa', 'Iris-setosa', 'Iris-setosa', 'Iris-setosa',\n",
       "       'Iris-setosa', 'Iris-setosa', 'Iris-setosa', 'Iris-setosa',\n",
       "       'Iris-setosa', 'Iris-setosa', 'Iris-setosa', 'Iris-setosa',\n",
       "       'Iris-setosa', 'Iris-setosa', 'Iris-setosa', 'Iris-setosa',\n",
       "       'Iris-setosa', 'Iris-setosa', 'Iris-setosa', 'Iris-setosa',\n",
       "       'Iris-setosa', 'Iris-setosa', 'Iris-setosa', 'Iris-setosa',\n",
       "       'Iris-setosa', 'Iris-setosa', 'Iris-setosa', 'Iris-setosa',\n",
       "       'Iris-setosa', 'Iris-setosa', 'Iris-setosa', 'Iris-setosa',\n",
       "       'Iris-setosa', 'Iris-setosa', 'Iris-setosa', 'Iris-setosa',\n",
       "       'Iris-setosa', 'Iris-setosa', 'Iris-versicolor', 'Iris-versicolor',\n",
       "       'Iris-versicolor', 'Iris-versicolor', 'Iris-versicolor',\n",
       "       'Iris-versicolor', 'Iris-versicolor', 'Iris-versicolor',\n",
       "       'Iris-versicolor', 'Iris-versicolor', 'Iris-versicolor',\n",
       "       'Iris-versicolor', 'Iris-versicolor', 'Iris-versicolor',\n",
       "       'Iris-versicolor', 'Iris-versicolor', 'Iris-versicolor',\n",
       "       'Iris-versicolor', 'Iris-versicolor', 'Iris-versicolor',\n",
       "       'Iris-versicolor', 'Iris-versicolor', 'Iris-versicolor',\n",
       "       'Iris-versicolor', 'Iris-versicolor', 'Iris-versicolor',\n",
       "       'Iris-versicolor', 'Iris-versicolor', 'Iris-versicolor',\n",
       "       'Iris-versicolor', 'Iris-versicolor', 'Iris-versicolor',\n",
       "       'Iris-versicolor', 'Iris-versicolor', 'Iris-versicolor',\n",
       "       'Iris-versicolor', 'Iris-versicolor', 'Iris-versicolor',\n",
       "       'Iris-versicolor', 'Iris-versicolor', 'Iris-versicolor',\n",
       "       'Iris-versicolor', 'Iris-versicolor', 'Iris-versicolor',\n",
       "       'Iris-versicolor', 'Iris-versicolor', 'Iris-versicolor',\n",
       "       'Iris-versicolor', 'Iris-versicolor', 'Iris-versicolor',\n",
       "       'Iris-virginica', 'Iris-virginica', 'Iris-virginica',\n",
       "       'Iris-virginica', 'Iris-virginica', 'Iris-virginica',\n",
       "       'Iris-virginica', 'Iris-virginica', 'Iris-virginica',\n",
       "       'Iris-virginica', 'Iris-virginica', 'Iris-virginica',\n",
       "       'Iris-virginica', 'Iris-virginica', 'Iris-virginica',\n",
       "       'Iris-virginica', 'Iris-virginica', 'Iris-virginica',\n",
       "       'Iris-virginica', 'Iris-virginica', 'Iris-virginica',\n",
       "       'Iris-virginica', 'Iris-virginica', 'Iris-virginica',\n",
       "       'Iris-virginica', 'Iris-virginica', 'Iris-virginica',\n",
       "       'Iris-virginica', 'Iris-virginica', 'Iris-virginica',\n",
       "       'Iris-virginica', 'Iris-virginica', 'Iris-virginica',\n",
       "       'Iris-virginica', 'Iris-virginica', 'Iris-virginica',\n",
       "       'Iris-virginica', 'Iris-virginica', 'Iris-virginica',\n",
       "       'Iris-virginica', 'Iris-virginica', 'Iris-virginica',\n",
       "       'Iris-virginica', 'Iris-virginica', 'Iris-virginica',\n",
       "       'Iris-virginica', 'Iris-virginica', 'Iris-virginica',\n",
       "       'Iris-virginica', 'Iris-virginica'], dtype=object)"
      ]
     },
     "execution_count": 100,
     "metadata": {},
     "output_type": "execute_result"
    }
   ],
   "source": [
    "base[\"class\"].values"
   ]
  },
  {
   "cell_type": "code",
   "execution_count": 101,
   "metadata": {},
   "outputs": [
    {
     "data": {
      "text/html": [
       "<div>\n",
       "<style scoped>\n",
       "    .dataframe tbody tr th:only-of-type {\n",
       "        vertical-align: middle;\n",
       "    }\n",
       "\n",
       "    .dataframe tbody tr th {\n",
       "        vertical-align: top;\n",
       "    }\n",
       "\n",
       "    .dataframe thead th {\n",
       "        text-align: right;\n",
       "    }\n",
       "</style>\n",
       "<table border=\"1\" class=\"dataframe\">\n",
       "  <thead>\n",
       "    <tr style=\"text-align: right;\">\n",
       "      <th></th>\n",
       "      <th>sepal_length</th>\n",
       "      <th>sepal_width</th>\n",
       "      <th>petal_length</th>\n",
       "      <th>petal_width</th>\n",
       "    </tr>\n",
       "  </thead>\n",
       "  <tbody>\n",
       "    <tr>\n",
       "      <th>count</th>\n",
       "      <td>150.000000</td>\n",
       "      <td>150.000000</td>\n",
       "      <td>150.000000</td>\n",
       "      <td>150.000000</td>\n",
       "    </tr>\n",
       "    <tr>\n",
       "      <th>mean</th>\n",
       "      <td>5.843333</td>\n",
       "      <td>3.054000</td>\n",
       "      <td>3.758667</td>\n",
       "      <td>1.198667</td>\n",
       "    </tr>\n",
       "    <tr>\n",
       "      <th>std</th>\n",
       "      <td>0.828066</td>\n",
       "      <td>0.433594</td>\n",
       "      <td>1.764420</td>\n",
       "      <td>0.763161</td>\n",
       "    </tr>\n",
       "    <tr>\n",
       "      <th>min</th>\n",
       "      <td>4.300000</td>\n",
       "      <td>2.000000</td>\n",
       "      <td>1.000000</td>\n",
       "      <td>0.100000</td>\n",
       "    </tr>\n",
       "    <tr>\n",
       "      <th>25%</th>\n",
       "      <td>5.100000</td>\n",
       "      <td>2.800000</td>\n",
       "      <td>1.600000</td>\n",
       "      <td>0.300000</td>\n",
       "    </tr>\n",
       "    <tr>\n",
       "      <th>50%</th>\n",
       "      <td>5.800000</td>\n",
       "      <td>3.000000</td>\n",
       "      <td>4.350000</td>\n",
       "      <td>1.300000</td>\n",
       "    </tr>\n",
       "    <tr>\n",
       "      <th>75%</th>\n",
       "      <td>6.400000</td>\n",
       "      <td>3.300000</td>\n",
       "      <td>5.100000</td>\n",
       "      <td>1.800000</td>\n",
       "    </tr>\n",
       "    <tr>\n",
       "      <th>max</th>\n",
       "      <td>7.900000</td>\n",
       "      <td>4.400000</td>\n",
       "      <td>6.900000</td>\n",
       "      <td>2.500000</td>\n",
       "    </tr>\n",
       "  </tbody>\n",
       "</table>\n",
       "</div>"
      ],
      "text/plain": [
       "       sepal_length  sepal_width  petal_length  petal_width\n",
       "count    150.000000   150.000000    150.000000   150.000000\n",
       "mean       5.843333     3.054000      3.758667     1.198667\n",
       "std        0.828066     0.433594      1.764420     0.763161\n",
       "min        4.300000     2.000000      1.000000     0.100000\n",
       "25%        5.100000     2.800000      1.600000     0.300000\n",
       "50%        5.800000     3.000000      4.350000     1.300000\n",
       "75%        6.400000     3.300000      5.100000     1.800000\n",
       "max        7.900000     4.400000      6.900000     2.500000"
      ]
     },
     "execution_count": 101,
     "metadata": {},
     "output_type": "execute_result"
    }
   ],
   "source": [
    "base.describe()"
   ]
  },
  {
   "cell_type": "markdown",
   "metadata": {},
   "source": [
    "### Transformando labels em números"
   ]
  },
  {
   "cell_type": "code",
   "execution_count": 102,
   "metadata": {},
   "outputs": [
    {
     "data": {
      "text/plain": [
       "array([0, 0, 0, 0, 0, 0, 0, 0, 0, 0, 0, 0, 0, 0, 0, 0, 0, 0, 0, 0, 0, 0,\n",
       "       0, 0, 0, 0, 0, 0, 0, 0, 0, 0, 0, 0, 0, 0, 0, 0, 0, 0, 0, 0, 0, 0,\n",
       "       0, 0, 0, 0, 0, 0, 1, 1, 1, 1, 1, 1, 1, 1, 1, 1, 1, 1, 1, 1, 1, 1,\n",
       "       1, 1, 1, 1, 1, 1, 1, 1, 1, 1, 1, 1, 1, 1, 1, 1, 1, 1, 1, 1, 1, 1,\n",
       "       1, 1, 1, 1, 1, 1, 1, 1, 1, 1, 1, 1, 2, 2, 2, 2, 2, 2, 2, 2, 2, 2,\n",
       "       2, 2, 2, 2, 2, 2, 2, 2, 2, 2, 2, 2, 2, 2, 2, 2, 2, 2, 2, 2, 2, 2,\n",
       "       2, 2, 2, 2, 2, 2, 2, 2, 2, 2, 2, 2, 2, 2, 2, 2, 2, 2])"
      ]
     },
     "execution_count": 102,
     "metadata": {},
     "output_type": "execute_result"
    }
   ],
   "source": [
    "from sklearn.preprocessing import LabelEncoder\n",
    "\n",
    "lb_make = LabelEncoder()\n",
    "base[\"class\"] = lb_make.fit_transform(base[\"class\"])\n",
    "\n",
    "base[\"class\"].values"
   ]
  },
  {
   "cell_type": "markdown",
   "metadata": {},
   "source": [
    "## Carregando os dados"
   ]
  },
  {
   "cell_type": "code",
   "execution_count": 103,
   "metadata": {},
   "outputs": [],
   "source": [
    "X = base.iloc[:,0:4].values\n",
    "y = base.iloc[:,4].values"
   ]
  },
  {
   "cell_type": "markdown",
   "metadata": {},
   "source": [
    "### Normalização dos dados"
   ]
  },
  {
   "cell_type": "code",
   "execution_count": 104,
   "metadata": {},
   "outputs": [],
   "source": [
    "from sklearn.preprocessing import MinMaxScaler\n",
    "normalizador = MinMaxScaler(feature_range = (0,1))\n",
    "X = normalizador.fit_transform(X)"
   ]
  },
  {
   "cell_type": "markdown",
   "metadata": {},
   "source": [
    "### Construção do SOM"
   ]
  },
  {
   "cell_type": "markdown",
   "metadata": {},
   "source": [
    "O algoritmo de Kohonen foi desenvolvido por Teuvo Kohonen em 1982, sendo considerado relativamente simples e com a capacidade de organizar dimensionalmente dados complexos em grupos (clusters), de acordo com suas relações. Este método solicita apenas os parâmetros de entrada, mostrando-se ideal para problemas onde os padrões são desconhecidos ou indeterminados.\n",
    "<a href='https://pt.wikipedia.org/wiki/Mapas_de_Kohonen#/media/Ficheiro:TrainSOM.gif'>  <img src='440px-TrainSOM.gif' /></a>\n"
   ]
  },
  {
   "cell_type": "code",
   "execution_count": 105,
   "metadata": {},
   "outputs": [],
   "source": [
    "som = MiniSom(x = 10, y = 10, input_len = 4, sigma = 1.0, learning_rate = 0.9, random_seed = 2)\n",
    "som.random_weights_init(X)\n",
    "som.train_random(data = X, num_iteration = 100000)"
   ]
  },
  {
   "cell_type": "markdown",
   "metadata": {},
   "source": [
    "#### Topologia da Rede"
   ]
  },
  {
   "cell_type": "markdown",
   "metadata": {},
   "source": [
    "Os SOMs  têm duas camadas, a primeira é a camada de entrada e a segunda é a camada de saída ou o mapa de características. Ao contrário de outros tipos de RNA, SOM não tem função de ativação em neurônios, passamos pesos diretamente para a camada de saída sem fazer nada. Cada neurônio em um SOM é atribuído a um vetor de peso com a mesma dimensionalidade d do espaço de entrada. <a href='https://towardsdatascience.com/analyzing-climate-patterns-with-self-organizing-maps-soms-8d4ef322705b'> <img src='Mapa.png'/> </a>"
   ]
  },
  {
   "cell_type": "code",
   "execution_count": 106,
   "metadata": {},
   "outputs": [
    {
     "data": {
      "text/plain": [
       "array([[0.80189453, 0.74223819, 0.62646349, 0.5609645 , 0.51582195,\n",
       "        0.50527555, 0.61943189, 0.55203464, 0.50428101, 0.37592286],\n",
       "       [0.68739508, 0.62423178, 0.56133647, 0.4769131 , 0.46310798,\n",
       "        0.48023154, 0.56909795, 0.43222396, 0.35661994, 0.31387808],\n",
       "       [0.73988512, 0.64843786, 0.51392216, 0.42337371, 0.36620713,\n",
       "        0.31109674, 0.3890622 , 0.30446204, 0.26515688, 0.27717809],\n",
       "       [0.510687  , 0.48086872, 0.37417332, 0.32192238, 0.25803597,\n",
       "        0.20907092, 0.25147731, 0.29952498, 0.40376233, 0.44159255],\n",
       "       [0.40116772, 0.28126562, 0.1921342 , 0.1885418 , 0.14985316,\n",
       "        0.10400754, 0.17642221, 0.62761819, 0.92440426, 0.92644656],\n",
       "       [0.30195959, 0.18558061, 0.18124415, 0.28045334, 0.22144356,\n",
       "        0.12099048, 0.56535145, 0.8039143 , 0.77019381, 0.88225376],\n",
       "       [0.21615499, 0.16308939, 0.1637401 , 0.28330196, 0.25826868,\n",
       "        0.4913233 , 0.71311332, 0.77675257, 0.83030852, 0.80695006],\n",
       "       [0.09710751, 0.00426104, 0.15674418, 0.23320889, 0.28874574,\n",
       "        0.44754959, 0.9094764 , 0.81406752, 0.79285437, 0.72905404],\n",
       "       [0.17164334, 0.23093738, 0.14448743, 0.19973336, 0.43036372,\n",
       "        0.56924375, 0.83094403, 0.79605512, 0.7851942 , 0.79976902],\n",
       "       [0.2436112 , 0.29721596, 0.39923224, 0.25914149, 0.49700185,\n",
       "        0.83872066, 0.88953143, 0.82582397, 0.79352534, 0.76895398]])"
      ]
     },
     "execution_count": 106,
     "metadata": {},
     "output_type": "execute_result"
    }
   ],
   "source": [
    "som._activation_map"
   ]
  },
  {
   "cell_type": "markdown",
   "metadata": {},
   "source": [
    "#### Pesos do SOM"
   ]
  },
  {
   "cell_type": "code",
   "execution_count": 107,
   "metadata": {},
   "outputs": [
    {
     "data": {
      "text/plain": [
       "array([[[0.96070961, 0.74840316, 0.9504741 , 0.85068494],\n",
       "        [0.80927702, 0.66741793, 0.86624838, 0.99356198],\n",
       "        [0.66743939, 0.54126604, 0.7969735 , 0.99901242],\n",
       "        [0.66614707, 0.45849431, 0.77916324, 0.95662391],\n",
       "        [0.69802992, 0.44216215, 0.70346665, 0.91569938],\n",
       "        [0.58455735, 0.49984048, 0.72936233, 0.91656366],\n",
       "        [0.55601221, 0.54153389, 0.84350206, 0.9972111 ],\n",
       "        [0.49116766, 0.44749988, 0.77535529, 0.97761758],\n",
       "        [0.41496054, 0.32994311, 0.69387422, 0.95087757],\n",
       "        [0.38918   , 0.20928109, 0.67814373, 0.79156659]],\n",
       "\n",
       "       [[0.94483362, 0.42018666, 0.86866804, 0.91522002],\n",
       "        [0.84109536, 0.4709897 , 0.88187303, 0.89361508],\n",
       "        [0.7011667 , 0.49858014, 0.82117876, 0.91622498],\n",
       "        [0.61292065, 0.41678313, 0.81232706, 0.87478142],\n",
       "        [0.71265109, 0.44610202, 0.75113474, 0.83403501],\n",
       "        [0.66017571, 0.5326984 , 0.79311971, 0.82936337],\n",
       "        [0.55103161, 0.58181722, 0.77195209, 0.94674636],\n",
       "        [0.47363028, 0.49785517, 0.70993488, 0.84845669],\n",
       "        [0.36805785, 0.33594451, 0.6616079 , 0.78783708],\n",
       "        [0.4164085 , 0.29170861, 0.69461398, 0.75029852]],\n",
       "\n",
       "       [[0.94305702, 0.25303827, 0.99777657, 0.9136309 ],\n",
       "        [0.92015213, 0.39889342, 0.95111443, 0.82531079],\n",
       "        [0.77523178, 0.41434585, 0.83078741, 0.83292572],\n",
       "        [0.58531541, 0.33466   , 0.77993513, 0.84383553],\n",
       "        [0.60946557, 0.41043825, 0.7193221 , 0.78647706],\n",
       "        [0.59016729, 0.41315852, 0.76728734, 0.70859663],\n",
       "        [0.60830231, 0.49844816, 0.69608513, 0.7863893 ],\n",
       "        [0.45019677, 0.49706359, 0.64516458, 0.70949767],\n",
       "        [0.48289132, 0.41667522, 0.6506716 , 0.70836304],\n",
       "        [0.4454665 , 0.41495817, 0.69348636, 0.70890568]],\n",
       "\n",
       "       [[0.84859042, 0.3530289 , 0.8805005 , 0.73163838],\n",
       "        [0.80568391, 0.49298984, 0.84839667, 0.71000357],\n",
       "        [0.66745955, 0.21391333, 0.81260776, 0.70991955],\n",
       "        [0.58059754, 0.28292744, 0.72417604, 0.7501846 ],\n",
       "        [0.5480342 , 0.30417752, 0.65716998, 0.70837759],\n",
       "        [0.54553018, 0.40709897, 0.66914921, 0.64388579],\n",
       "        [0.56761216, 0.52352781, 0.61273524, 0.60762704],\n",
       "        [0.47689607, 0.57922405, 0.59446493, 0.62462498],\n",
       "        [0.40225978, 0.64838789, 0.40055304, 0.40467219],\n",
       "        [0.415989  , 0.69842323, 0.39626641, 0.42141797]],\n",
       "\n",
       "       [[0.80394493, 0.41686766, 0.81030535, 0.62571811],\n",
       "        [0.67035594, 0.41451427, 0.68118911, 0.6597663 ],\n",
       "        [0.50777253, 0.25137757, 0.77417317, 0.55060119],\n",
       "        [0.47610615, 0.28683513, 0.69499579, 0.62628483],\n",
       "        [0.55269754, 0.33216829, 0.69005353, 0.58369993],\n",
       "        [0.49862122, 0.39185687, 0.61842871, 0.54386196],\n",
       "        [0.45369583, 0.42075192, 0.54990755, 0.58233801],\n",
       "        [0.34874287, 0.74072668, 0.23273436, 0.23580789],\n",
       "        [0.27448028, 0.88615717, 0.08015125, 0.01237754],\n",
       "        [0.38508736, 0.99254257, 0.08356512, 0.11908259]],\n",
       "\n",
       "       [[0.74250445, 0.4876795 , 0.63509866, 0.55044613],\n",
       "        [0.67206008, 0.35022436, 0.63056789, 0.52570013],\n",
       "        [0.55460216, 0.21259296, 0.65648218, 0.57844824],\n",
       "        [0.47811073, 0.08553049, 0.66871102, 0.58096596],\n",
       "        [0.55236752, 0.12854395, 0.57607735, 0.50017813],\n",
       "        [0.50052488, 0.33276781, 0.5142758 , 0.50197497],\n",
       "        [0.30280787, 0.58727779, 0.21048773, 0.25176997],\n",
       "        [0.30507608, 0.79054201, 0.09053932, 0.12467823],\n",
       "        [0.38323738, 0.75393477, 0.11629582, 0.08187686],\n",
       "        [0.41456931, 0.83152754, 0.03561602, 0.04240007]],\n",
       "\n",
       "       [[0.65555211, 0.44174483, 0.59636274, 0.55744985],\n",
       "        [0.60833933, 0.33384793, 0.60855622, 0.5780785 ],\n",
       "        [0.41826326, 0.26212173, 0.5044133 , 0.45883046],\n",
       "        [0.4697653 , 0.08976792, 0.50938876, 0.37983857],\n",
       "        [0.38972186, 0.24615897, 0.42646507, 0.37660074],\n",
       "        [0.29479118, 0.46490897, 0.24580192, 0.26709179],\n",
       "        [0.20180893, 0.59235294, 0.10602837, 0.17375212],\n",
       "        [0.22240364, 0.72836117, 0.11857707, 0.12423261],\n",
       "        [0.22359675, 0.74868413, 0.09242119, 0.06514658],\n",
       "        [0.28937212, 0.70712508, 0.08435717, 0.04300936]],\n",
       "\n",
       "       [[0.53647369, 0.3755188 , 0.55989102, 0.50001808],\n",
       "        [0.50015157, 0.33378139, 0.62446743, 0.4596155 ],\n",
       "        [0.4163742 , 0.29219451, 0.52732346, 0.38243548],\n",
       "        [0.36270479, 0.20745323, 0.49357803, 0.41523445],\n",
       "        [0.33148883, 0.16709205, 0.46951033, 0.4083179 ],\n",
       "        [0.24701653, 0.33725298, 0.30613788, 0.2759711 ],\n",
       "        [0.09160476, 0.66092691, 0.00710207, 0.04769658],\n",
       "        [0.19844522, 0.64486908, 0.06241425, 0.0635865 ],\n",
       "        [0.23704043, 0.6161028 , 0.07296733, 0.04308874],\n",
       "        [0.31155483, 0.59328594, 0.07880367, 0.1008651 ]],\n",
       "\n",
       "       [[0.37905868, 0.41146426, 0.53640823, 0.48068572],\n",
       "        [0.3631291 , 0.37228552, 0.45094038, 0.49941211],\n",
       "        [0.37969416, 0.32043349, 0.56030355, 0.50041555],\n",
       "        [0.32984487, 0.24885796, 0.56543868, 0.45795518],\n",
       "        [0.2044058 , 0.17561864, 0.36413909, 0.39665002],\n",
       "        [0.14248522, 0.24851201, 0.24050988, 0.25943478],\n",
       "        [0.08256166, 0.57982012, 0.06741693, 0.08125048],\n",
       "        [0.13806589, 0.58043959, 0.10893097, 0.04224742],\n",
       "        [0.20423397, 0.57623066, 0.08305311, 0.04114517],\n",
       "        [0.1988948 , 0.50547619, 0.03772888, 0.04366156]],\n",
       "\n",
       "       [[0.31043001, 0.41584282, 0.59221855, 0.58236479],\n",
       "        [0.25142549, 0.29373244, 0.49370077, 0.54306513],\n",
       "        [0.17749428, 0.21274807, 0.58958729, 0.65689576],\n",
       "        [0.3311332 , 0.18193927, 0.50896785, 0.5002683 ],\n",
       "        [0.19553677, 0.01004534, 0.42000323, 0.37526073],\n",
       "        [0.0556496 , 0.13538911, 0.05520308, 0.08452089],\n",
       "        [0.01157358, 0.40762946, 0.03452643, 0.01559148],\n",
       "        [0.07195442, 0.47849458, 0.07586982, 0.04142188],\n",
       "        [0.15536243, 0.44761246, 0.08300534, 0.00912469],\n",
       "        [0.14350945, 0.41942255, 0.0701282 , 0.0755083 ]]])"
      ]
     },
     "execution_count": 107,
     "metadata": {},
     "output_type": "execute_result"
    }
   ],
   "source": [
    "som._weights"
   ]
  },
  {
   "cell_type": "markdown",
   "metadata": {},
   "source": [
    "## Visualizção dos Dados"
   ]
  },
  {
   "cell_type": "markdown",
   "metadata": {},
   "source": [
    "### Visualização de quantas vezes determinado neurônio foi ativado"
   ]
  },
  {
   "cell_type": "markdown",
   "metadata": {},
   "source": [
    "**Competição:**\n",
    "Como dissemos antes, a cada neurônio em um SOM é atribuído um vetor de peso com a mesma dimensionalidade do espaço de entrada.\n",
    "No exemplo abaixo, em cada neurônio da camada de saída teremos um vetor com dimensão n.\n",
    "Calculamos a distância entre cada neurônio (neurônio da camada de saída) e os dados de entrada, e o neurônio com a menor distância será o vencedor da competição. \n",
    "\n",
    "A métrica euclidiana ***dj*** é comumente usada para medir distâncias: $$\\ d_j =\\sum_{i=1}^n(x_i-w_{ij})^2$$\n",
    "\n",
    "<a href=https://towardsdatascience.com/self-organizing-maps-1b7d2a84e065> <img src='competicao.png'/> </a>\n"
   ]
  },
  {
   "cell_type": "code",
   "execution_count": 108,
   "metadata": {},
   "outputs": [
    {
     "data": {
      "text/plain": [
       "array([[2., 1., 1., 1., 2., 1., 1., 0., 1., 1.],\n",
       "       [1., 0., 2., 1., 2., 1., 2., 0., 1., 2.],\n",
       "       [1., 2., 1., 2., 1., 3., 1., 1., 2., 1.],\n",
       "       [2., 1., 1., 2., 2., 0., 2., 1., 0., 0.],\n",
       "       [1., 1., 1., 1., 1., 3., 1., 0., 2., 1.],\n",
       "       [2., 2., 1., 2., 1., 1., 0., 2., 1., 1.],\n",
       "       [3., 1., 2., 1., 1., 0., 3., 2., 2., 2.],\n",
       "       [2., 1., 1., 1., 2., 0., 1., 3., 3., 3.],\n",
       "       [3., 1., 3., 1., 3., 0., 1., 2., 3., 1.],\n",
       "       [2., 1., 1., 2., 1., 1., 3., 5., 6., 2.]])"
      ]
     },
     "execution_count": 108,
     "metadata": {},
     "output_type": "execute_result"
    }
   ],
   "source": [
    "q = som.activation_response(X)\n",
    "q"
   ]
  },
  {
   "cell_type": "markdown",
   "metadata": {},
   "source": [
    "\n",
    "### MID - distância média entre neurônios"
   ]
  },
  {
   "cell_type": "code",
   "execution_count": 109,
   "metadata": {},
   "outputs": [
    {
     "data": {
      "text/plain": [
       "<matplotlib.colorbar.Colorbar at 0x7fed9a6a9be0>"
      ]
     },
     "execution_count": 109,
     "metadata": {},
     "output_type": "execute_result"
    },
    {
     "data": {
      "image/png": "[encoded data removed]",
      "text/plain": [
       "<Figure size 432x288 with 2 Axes>"
      ]
     },
     "metadata": {
      "needs_background": "light"
     },
     "output_type": "display_data"
    }
   ],
   "source": [
    "from matplotlib.pylab import pcolor, colorbar, plot, plt\n",
    "pcolor(som.distance_map().T)\n",
    "# MID - mean inter neuron distance\n",
    "colorbar()"
   ]
  },
  {
   "cell_type": "markdown",
   "metadata": {},
   "source": [
    "### Regiões de ativação (classe)"
   ]
  },
  {
   "cell_type": "code",
   "execution_count": 110,
   "metadata": {},
   "outputs": [],
   "source": [
    "markers = ['o', 's', 'D']\n",
    "color = ['r', 'g', 'b']\n",
    "y[y == 0] = 0\n",
    "y[y == 1] = 1\n",
    "y[y == 2] = 2\n"
   ]
  },
  {
   "cell_type": "code",
   "execution_count": 111,
   "metadata": {},
   "outputs": [
    {
     "data": {
      "image/png": "[encoded data removed]",
      "text/plain": [
       "<Figure size 432x288 with 1 Axes>"
      ]
     },
     "metadata": {
      "needs_background": "light"
     },
     "output_type": "display_data"
    }
   ],
   "source": [
    "for i, x in enumerate(X):\n",
    "    #print(i)\n",
    "    #print(x)\n",
    "    w = som.winner(x)\n",
    "    #print(w)\n",
    "    plot(w[0] + 0.5, w[1] + 0.5, markers[y[i]],\n",
    "         markerfacecolor = 'None', markersize = 10,\n",
    "         markeredgecolor = color[y[i]], markeredgewidth = 2)"
   ]
  },
  {
   "cell_type": "code",
   "execution_count": 114,
   "metadata": {},
   "outputs": [
    {
     "name": "stdout",
     "output_type": "stream",
     "text": [
      "(1, 6)\n"
     ]
    }
   ],
   "source": [
    "w = som.winner(X[148])  \n",
    "print(w)"
   ]
  },
  {
   "cell_type": "code",
   "execution_count": 113,
   "metadata": {},
   "outputs": [
    {
     "data": {
      "image/png": "[encoded data removed]",
      "text/plain": [
       "<Figure size 576x360 with 2 Axes>"
      ]
     },
     "metadata": {
      "needs_background": "light"
     },
     "output_type": "display_data"
    }
   ],
   "source": [
    "import matplotlib.patches as mpatches\n",
    "red_patch = mpatches.Patch(color='red', label='Class_3')\n",
    "blue_patch = mpatches.Patch(color='blue', label='Class_1')\n",
    "green_patch = mpatches.Patch(color='green', label='Class_2')\n",
    "\n",
    "\n",
    "plt.figure(figsize=(8,5))\n",
    "plt.title('SOM')\n",
    "plt.pcolor(som.distance_map().T) # Mapa de distância como background\n",
    "plt.colorbar()\n",
    "\n",
    "for cnt,xx in enumerate(X):\n",
    "    w = som.winner(xx) # Definindo o neurônio\n",
    "    plt.plot(w[0]+.5,w[1]+.5,markers[y[cnt]],markerfacecolor='None',\n",
    "             markeredgecolor=color[y[cnt]],markersize=12,markeredgewidth=2)\n",
    "    \n",
    "plt.axis([0,som.get_weights().shape[0],0,som.get_weights().shape[1]])\n",
    "plt.legend(handles=[red_patch, blue_patch,green_patch])\n",
    "plt.show() "
   ]
  },
  {
   "cell_type": "code",
   "execution_count": null,
   "metadata": {},
   "outputs": [],
   "source": []
  }
 ],
 "metadata": {
  "kernelspec": {
   "display_name": "Python 3 (ipykernel)",
   "language": "python",
   "name": "python3"
  },
  "language_info": {
   "codemirror_mode": {
    "name": "ipython",
    "version": 3
   },
   "file_extension": ".py",
   "mimetype": "text/x-python",
   "name": "python",
   "nbconvert_exporter": "python",
   "pygments_lexer": "ipython3",
   "version": "3.9.12"
  }
 },
 "nbformat": 4,
 "nbformat_minor": 2
}
