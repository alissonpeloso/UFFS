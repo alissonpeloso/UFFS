{
 "cells": [
  {
   "cell_type": "markdown",
   "metadata": {},
   "source": [
    "## Modelo para o Sensor CEI\n",
    "\n",
    "Este dataset **\"DataCEI.csv\"** possui informações dispostas em colunas sobre as características dos objetos que passam pelo sensor:\n",
    "\n",
    "* **Tamanho**:  Segue a classificação do CEI2020 (Tamanho='0' - Grande 100%).\n",
    "* **Referencia**:  Referência dinâmica do *Threshold.\n",
    "* **NumAmostra**:  Número de amostras adquiridas.\n",
    "* **Area**:  Somatório das Amplitudes das amostras.\n",
    "* **Delta**:  Máxima Amplitude da amostra.\n",
    "* **Output1**:  Peça tipo 1.\n",
    "* **Output2**:  Peça tipo 2.\n",
    "\n",
    "\n",
    "\n",
    "### Bibliotecas"
   ]
  },
  {
   "cell_type": "code",
   "execution_count": 1,
   "metadata": {},
   "outputs": [],
   "source": [
    "import pandas as pd\n",
    "import numpy as np\n",
    "import matplotlib.pyplot as plt\n",
    "import seaborn as sns\n",
    "%matplotlib inline\n",
    "\n",
    "#Função do cáculo da sigmóide\n",
    "def sigmoid(x):\n",
    "    return 1/(1+np.exp(-x))"
   ]
  },
  {
   "cell_type": "markdown",
   "metadata": {},
   "source": [
    "### Carregando os dados\n",
    "\n",
    "Vamos começar lendo o arquivo DataCEI.csv em um dataframe do pandas."
   ]
  },
  {
   "cell_type": "code",
   "execution_count": 2,
   "metadata": {},
   "outputs": [],
   "source": [
    "DataSet=pd.read_csv('arruela_.csv')"
   ]
  },
  {
   "cell_type": "code",
   "execution_count": 3,
   "metadata": {},
   "outputs": [
    {
     "data": {
      "text/html": [
       "<div>\n",
       "<style scoped>\n",
       "    .dataframe tbody tr th:only-of-type {\n",
       "        vertical-align: middle;\n",
       "    }\n",
       "\n",
       "    .dataframe tbody tr th {\n",
       "        vertical-align: top;\n",
       "    }\n",
       "\n",
       "    .dataframe thead th {\n",
       "        text-align: right;\n",
       "    }\n",
       "</style>\n",
       "<table border=\"1\" class=\"dataframe\">\n",
       "  <thead>\n",
       "    <tr style=\"text-align: right;\">\n",
       "      <th></th>\n",
       "      <th>Hora</th>\n",
       "      <th>Tamanho</th>\n",
       "      <th>Referencia</th>\n",
       "      <th>NumAmostra</th>\n",
       "      <th>Area</th>\n",
       "      <th>Delta</th>\n",
       "      <th>Output1</th>\n",
       "      <th>Output2</th>\n",
       "    </tr>\n",
       "  </thead>\n",
       "  <tbody>\n",
       "    <tr>\n",
       "      <th>0</th>\n",
       "      <td>17:56:39</td>\n",
       "      <td>53</td>\n",
       "      <td>25</td>\n",
       "      <td>69</td>\n",
       "      <td>81</td>\n",
       "      <td>68</td>\n",
       "      <td>1</td>\n",
       "      <td>0</td>\n",
       "    </tr>\n",
       "    <tr>\n",
       "      <th>1</th>\n",
       "      <td>17:56:41</td>\n",
       "      <td>53</td>\n",
       "      <td>26</td>\n",
       "      <td>89</td>\n",
       "      <td>87</td>\n",
       "      <td>56</td>\n",
       "      <td>1</td>\n",
       "      <td>0</td>\n",
       "    </tr>\n",
       "    <tr>\n",
       "      <th>2</th>\n",
       "      <td>17:56:52</td>\n",
       "      <td>53</td>\n",
       "      <td>27</td>\n",
       "      <td>68</td>\n",
       "      <td>69</td>\n",
       "      <td>55</td>\n",
       "      <td>1</td>\n",
       "      <td>0</td>\n",
       "    </tr>\n",
       "    <tr>\n",
       "      <th>3</th>\n",
       "      <td>17:56:55</td>\n",
       "      <td>53</td>\n",
       "      <td>28</td>\n",
       "      <td>36</td>\n",
       "      <td>50</td>\n",
       "      <td>80</td>\n",
       "      <td>1</td>\n",
       "      <td>0</td>\n",
       "    </tr>\n",
       "    <tr>\n",
       "      <th>4</th>\n",
       "      <td>17:56:58</td>\n",
       "      <td>53</td>\n",
       "      <td>29</td>\n",
       "      <td>71</td>\n",
       "      <td>72</td>\n",
       "      <td>50</td>\n",
       "      <td>1</td>\n",
       "      <td>0</td>\n",
       "    </tr>\n",
       "  </tbody>\n",
       "</table>\n",
       "</div>"
      ],
      "text/plain": [
       "       Hora  Tamanho  Referencia  NumAmostra  Area  Delta  Output1  Output2\n",
       "0  17:56:39       53          25          69    81     68        1        0\n",
       "1  17:56:41       53          26          89    87     56        1        0\n",
       "2  17:56:52       53          27          68    69     55        1        0\n",
       "3  17:56:55       53          28          36    50     80        1        0\n",
       "4  17:56:58       53          29          71    72     50        1        0"
      ]
     },
     "execution_count": 3,
     "metadata": {},
     "output_type": "execute_result"
    }
   ],
   "source": [
    "DataSet.head()"
   ]
  },
  {
   "cell_type": "code",
   "execution_count": 4,
   "metadata": {},
   "outputs": [],
   "source": [
    "DataSet.drop(['Hora','Tamanho','Referencia'],axis=1,inplace=True)"
   ]
  },
  {
   "cell_type": "code",
   "execution_count": 5,
   "metadata": {},
   "outputs": [
    {
     "data": {
      "text/html": [
       "<div>\n",
       "<style scoped>\n",
       "    .dataframe tbody tr th:only-of-type {\n",
       "        vertical-align: middle;\n",
       "    }\n",
       "\n",
       "    .dataframe tbody tr th {\n",
       "        vertical-align: top;\n",
       "    }\n",
       "\n",
       "    .dataframe thead th {\n",
       "        text-align: right;\n",
       "    }\n",
       "</style>\n",
       "<table border=\"1\" class=\"dataframe\">\n",
       "  <thead>\n",
       "    <tr style=\"text-align: right;\">\n",
       "      <th></th>\n",
       "      <th>NumAmostra</th>\n",
       "      <th>Area</th>\n",
       "      <th>Delta</th>\n",
       "      <th>Output1</th>\n",
       "      <th>Output2</th>\n",
       "    </tr>\n",
       "  </thead>\n",
       "  <tbody>\n",
       "    <tr>\n",
       "      <th>0</th>\n",
       "      <td>69</td>\n",
       "      <td>81</td>\n",
       "      <td>68</td>\n",
       "      <td>1</td>\n",
       "      <td>0</td>\n",
       "    </tr>\n",
       "    <tr>\n",
       "      <th>1</th>\n",
       "      <td>89</td>\n",
       "      <td>87</td>\n",
       "      <td>56</td>\n",
       "      <td>1</td>\n",
       "      <td>0</td>\n",
       "    </tr>\n",
       "    <tr>\n",
       "      <th>2</th>\n",
       "      <td>68</td>\n",
       "      <td>69</td>\n",
       "      <td>55</td>\n",
       "      <td>1</td>\n",
       "      <td>0</td>\n",
       "    </tr>\n",
       "    <tr>\n",
       "      <th>3</th>\n",
       "      <td>36</td>\n",
       "      <td>50</td>\n",
       "      <td>80</td>\n",
       "      <td>1</td>\n",
       "      <td>0</td>\n",
       "    </tr>\n",
       "    <tr>\n",
       "      <th>4</th>\n",
       "      <td>71</td>\n",
       "      <td>72</td>\n",
       "      <td>50</td>\n",
       "      <td>1</td>\n",
       "      <td>0</td>\n",
       "    </tr>\n",
       "  </tbody>\n",
       "</table>\n",
       "</div>"
      ],
      "text/plain": [
       "   NumAmostra  Area  Delta  Output1  Output2\n",
       "0          69    81     68        1        0\n",
       "1          89    87     56        1        0\n",
       "2          68    69     55        1        0\n",
       "3          36    50     80        1        0\n",
       "4          71    72     50        1        0"
      ]
     },
     "execution_count": 5,
     "metadata": {},
     "output_type": "execute_result"
    }
   ],
   "source": [
    "DataSet.head()"
   ]
  },
  {
   "cell_type": "code",
   "execution_count": 6,
   "metadata": {},
   "outputs": [
    {
     "data": {
      "text/html": [
       "<div>\n",
       "<style scoped>\n",
       "    .dataframe tbody tr th:only-of-type {\n",
       "        vertical-align: middle;\n",
       "    }\n",
       "\n",
       "    .dataframe tbody tr th {\n",
       "        vertical-align: top;\n",
       "    }\n",
       "\n",
       "    .dataframe thead th {\n",
       "        text-align: right;\n",
       "    }\n",
       "</style>\n",
       "<table border=\"1\" class=\"dataframe\">\n",
       "  <thead>\n",
       "    <tr style=\"text-align: right;\">\n",
       "      <th></th>\n",
       "      <th>NumAmostra</th>\n",
       "      <th>Area</th>\n",
       "      <th>Delta</th>\n",
       "      <th>Output1</th>\n",
       "      <th>Output2</th>\n",
       "    </tr>\n",
       "  </thead>\n",
       "  <tbody>\n",
       "    <tr>\n",
       "      <th>count</th>\n",
       "      <td>261.000000</td>\n",
       "      <td>261.000000</td>\n",
       "      <td>261.000000</td>\n",
       "      <td>261.000000</td>\n",
       "      <td>261.000000</td>\n",
       "    </tr>\n",
       "    <tr>\n",
       "      <th>mean</th>\n",
       "      <td>59.777778</td>\n",
       "      <td>63.697318</td>\n",
       "      <td>54.747126</td>\n",
       "      <td>0.375479</td>\n",
       "      <td>0.624521</td>\n",
       "    </tr>\n",
       "    <tr>\n",
       "      <th>std</th>\n",
       "      <td>17.293075</td>\n",
       "      <td>30.629366</td>\n",
       "      <td>35.548413</td>\n",
       "      <td>0.485177</td>\n",
       "      <td>0.485177</td>\n",
       "    </tr>\n",
       "    <tr>\n",
       "      <th>min</th>\n",
       "      <td>3.000000</td>\n",
       "      <td>6.000000</td>\n",
       "      <td>17.000000</td>\n",
       "      <td>0.000000</td>\n",
       "      <td>0.000000</td>\n",
       "    </tr>\n",
       "    <tr>\n",
       "      <th>25%</th>\n",
       "      <td>50.000000</td>\n",
       "      <td>46.000000</td>\n",
       "      <td>38.000000</td>\n",
       "      <td>0.000000</td>\n",
       "      <td>0.000000</td>\n",
       "    </tr>\n",
       "    <tr>\n",
       "      <th>50%</th>\n",
       "      <td>59.000000</td>\n",
       "      <td>56.000000</td>\n",
       "      <td>44.000000</td>\n",
       "      <td>0.000000</td>\n",
       "      <td>1.000000</td>\n",
       "    </tr>\n",
       "    <tr>\n",
       "      <th>75%</th>\n",
       "      <td>69.000000</td>\n",
       "      <td>68.000000</td>\n",
       "      <td>54.000000</td>\n",
       "      <td>1.000000</td>\n",
       "      <td>1.000000</td>\n",
       "    </tr>\n",
       "    <tr>\n",
       "      <th>max</th>\n",
       "      <td>120.000000</td>\n",
       "      <td>201.000000</td>\n",
       "      <td>251.000000</td>\n",
       "      <td>1.000000</td>\n",
       "      <td>1.000000</td>\n",
       "    </tr>\n",
       "  </tbody>\n",
       "</table>\n",
       "</div>"
      ],
      "text/plain": [
       "       NumAmostra        Area       Delta     Output1     Output2\n",
       "count  261.000000  261.000000  261.000000  261.000000  261.000000\n",
       "mean    59.777778   63.697318   54.747126    0.375479    0.624521\n",
       "std     17.293075   30.629366   35.548413    0.485177    0.485177\n",
       "min      3.000000    6.000000   17.000000    0.000000    0.000000\n",
       "25%     50.000000   46.000000   38.000000    0.000000    0.000000\n",
       "50%     59.000000   56.000000   44.000000    0.000000    1.000000\n",
       "75%     69.000000   68.000000   54.000000    1.000000    1.000000\n",
       "max    120.000000  201.000000  251.000000    1.000000    1.000000"
      ]
     },
     "execution_count": 6,
     "metadata": {},
     "output_type": "execute_result"
    }
   ],
   "source": [
    "DataSet.describe()"
   ]
  },
  {
   "cell_type": "markdown",
   "metadata": {},
   "source": [
    "### Váriaveis do *Dataset*"
   ]
  },
  {
   "cell_type": "code",
   "execution_count": 7,
   "metadata": {},
   "outputs": [
    {
     "data": {
      "text/plain": [
       "Index(['NumAmostra', 'Area', 'Delta', 'Output1', 'Output2'], dtype='object')"
      ]
     },
     "execution_count": 7,
     "metadata": {},
     "output_type": "execute_result"
    }
   ],
   "source": [
    "DataSet.columns"
   ]
  },
  {
   "cell_type": "markdown",
   "metadata": {},
   "source": [
    "### Número de Peças\n",
    "\n",
    "#### Vamos classificar os grupos pelo número de peças: \n",
    "1. Grupo com uma peça\n",
    "2. Grupo com duas peças"
   ]
  },
  {
   "cell_type": "code",
   "execution_count": 8,
   "metadata": {},
   "outputs": [
    {
     "data": {
      "image/png": "[encoded data removed]",
      "text/plain": [
       "<Figure size 432x288 with 1 Axes>"
      ]
     },
     "metadata": {},
     "output_type": "display_data"
    }
   ],
   "source": [
    "sns.set_style('whitegrid')\n",
    "sns.countplot(x='Output2',data=DataSet,palette='RdBu_r')\n",
    "plt.show()"
   ]
  },
  {
   "cell_type": "markdown",
   "metadata": {},
   "source": [
    "#### Gráfico da distribuição das áreas das peças"
   ]
  },
  {
   "cell_type": "code",
   "execution_count": 9,
   "metadata": {},
   "outputs": [
    {
     "data": {
      "image/png": "[encoded data removed]",
      "text/plain": [
       "<Figure size 432x288 with 1 Axes>"
      ]
     },
     "metadata": {},
     "output_type": "display_data"
    }
   ],
   "source": [
    "sns.distplot(DataSet['Area'].dropna(),kde=False,color='darkred',bins=30)\n",
    "plt.show()"
   ]
  },
  {
   "cell_type": "code",
   "execution_count": 10,
   "metadata": {},
   "outputs": [
    {
     "data": {
      "image/png": "[encoded data removed]",
      "text/plain": [
       "<Figure size 432x288 with 1 Axes>"
      ]
     },
     "metadata": {},
     "output_type": "display_data"
    }
   ],
   "source": [
    "sns.set_style('whitegrid')\n",
    "sns.countplot(x='Area',hue='Output2',data=DataSet,palette='rainbow')\n",
    "plt.show()"
   ]
  },
  {
   "cell_type": "code",
   "execution_count": 11,
   "metadata": {},
   "outputs": [
    {
     "data": {
      "image/png": "[encoded data removed]",
      "text/plain": [
       "<Figure size 432x288 with 1 Axes>"
      ]
     },
     "metadata": {},
     "output_type": "display_data"
    }
   ],
   "source": [
    "sns.set_style('whitegrid')\n",
    "sns.countplot(x='NumAmostra',hue='Output2',data=DataSet,palette='rainbow')\n",
    "plt.show()"
   ]
  },
  {
   "cell_type": "code",
   "execution_count": 12,
   "metadata": {},
   "outputs": [
    {
     "data": {
      "image/png": "[encoded data removed]",
      "text/plain": [
       "<Figure size 432x288 with 1 Axes>"
      ]
     },
     "metadata": {},
     "output_type": "display_data"
    }
   ],
   "source": [
    "sns.set_style('whitegrid')\n",
    "sns.countplot(x='Delta',hue='Output1',data=DataSet,palette='rainbow')\n",
    "plt.show()"
   ]
  },
  {
   "cell_type": "markdown",
   "metadata": {},
   "source": [
    "## As variáveis preditoras e a variável de resposta\n",
    "\n",
    "Para treinar o modelo de regressão, primeiro precisaremos dividir nossos dados em uma matriz **X** que contenha os dados das variáveis preditoras e uma matriz **y** com os dados da variável de destino.\n",
    "\n",
    "### Matrizes X e y"
   ]
  },
  {
   "cell_type": "code",
   "execution_count": 13,
   "metadata": {},
   "outputs": [],
   "source": [
    "#X = DataSet[[ 'NumAmostra', 'Area', 'Delta']]\n",
    "#y = DataSet[['Output1','Output2']]"
   ]
  },
  {
   "cell_type": "markdown",
   "metadata": {},
   "source": [
    "### Relação entre as variáveis preditoras\n",
    "\n",
    "####  Algumas questões importantes\n",
    "1. Pelo menos um dos preditores ***x1, x2, ... ,x5***  é útil na previsão da resposta?\n",
    "2. Todos os preditores ajudam a explicar **y**, ou apenas um subconjunto dos preditores?\n",
    "3. Quão bem o modelo se ajusta aos dados?\n",
    "4. Dado um conjunto de valores de previsão, quais valores de resposta devemos prever e quais as métricas indicam um bom modelo de previsão?\n",
    "\n",
    "**Gráficos simples de dispersão**\n",
    "\n",
    "Pelos gráficos abaixo percebemos ... nossa variável de resposta"
   ]
  },
  {
   "cell_type": "code",
   "execution_count": 14,
   "metadata": {},
   "outputs": [
    {
     "data": {
      "image/png": "[encoded data removed]",
      "text/plain": [
       "<Figure size 900x900 with 30 Axes>"
      ]
     },
     "metadata": {},
     "output_type": "display_data"
    }
   ],
   "source": [
    "sns.pairplot(DataSet)\n",
    "plt.show()"
   ]
  },
  {
   "cell_type": "markdown",
   "metadata": {},
   "source": [
    "**Mapa de Calor**\n",
    "\n",
    "O gráfico abaixo mostra através de uma escala de cores a correlação entre as variáveis do *Dataset*. Se observarmos as cores deste gráfico, a variável preditora **'Area'** possui maior correlação com a variável de resposta **'Output'** e a variável **'NumAmostra'** a menor."
   ]
  },
  {
   "cell_type": "code",
   "execution_count": 15,
   "metadata": {},
   "outputs": [
    {
     "data": {
      "image/png": "[encoded data removed]",
      "text/plain": [
       "<Figure size 432x288 with 2 Axes>"
      ]
     },
     "metadata": {},
     "output_type": "display_data"
    }
   ],
   "source": [
    "sns.heatmap(DataSet.corr())\n",
    "plt.show()"
   ]
  },
  {
   "cell_type": "markdown",
   "metadata": {},
   "source": [
    "## Normalização dos Dados"
   ]
  },
  {
   "cell_type": "code",
   "execution_count": 16,
   "metadata": {},
   "outputs": [],
   "source": [
    "from sklearn.preprocessing import StandardScaler\n",
    "scaler=StandardScaler()\n",
    "DataScaled=scaler.fit_transform(DataSet)\n",
    "DataSetScaled=pd.DataFrame(np.array(DataScaled),columns = ['NumAmostra', 'Area', 'Delta', 'Output1','Output2'])\n"
   ]
  },
  {
   "cell_type": "code",
   "execution_count": 17,
   "metadata": {},
   "outputs": [
    {
     "data": {
      "text/html": [
       "<div>\n",
       "<style scoped>\n",
       "    .dataframe tbody tr th:only-of-type {\n",
       "        vertical-align: middle;\n",
       "    }\n",
       "\n",
       "    .dataframe tbody tr th {\n",
       "        vertical-align: top;\n",
       "    }\n",
       "\n",
       "    .dataframe thead th {\n",
       "        text-align: right;\n",
       "    }\n",
       "</style>\n",
       "<table border=\"1\" class=\"dataframe\">\n",
       "  <thead>\n",
       "    <tr style=\"text-align: right;\">\n",
       "      <th></th>\n",
       "      <th>NumAmostra</th>\n",
       "      <th>Area</th>\n",
       "      <th>Delta</th>\n",
       "      <th>Output1</th>\n",
       "      <th>Output2</th>\n",
       "    </tr>\n",
       "  </thead>\n",
       "  <tbody>\n",
       "    <tr>\n",
       "      <th>0</th>\n",
       "      <td>0.534314</td>\n",
       "      <td>0.565990</td>\n",
       "      <td>0.373528</td>\n",
       "      <td>1.289676</td>\n",
       "      <td>-1.289676</td>\n",
       "    </tr>\n",
       "    <tr>\n",
       "      <th>1</th>\n",
       "      <td>1.693069</td>\n",
       "      <td>0.762257</td>\n",
       "      <td>0.035312</td>\n",
       "      <td>1.289676</td>\n",
       "      <td>-1.289676</td>\n",
       "    </tr>\n",
       "    <tr>\n",
       "      <th>2</th>\n",
       "      <td>0.476377</td>\n",
       "      <td>0.173457</td>\n",
       "      <td>0.007127</td>\n",
       "      <td>1.289676</td>\n",
       "      <td>-1.289676</td>\n",
       "    </tr>\n",
       "    <tr>\n",
       "      <th>3</th>\n",
       "      <td>-1.377630</td>\n",
       "      <td>-0.448055</td>\n",
       "      <td>0.711745</td>\n",
       "      <td>1.289676</td>\n",
       "      <td>-1.289676</td>\n",
       "    </tr>\n",
       "    <tr>\n",
       "      <th>4</th>\n",
       "      <td>0.650190</td>\n",
       "      <td>0.271590</td>\n",
       "      <td>-0.133796</td>\n",
       "      <td>1.289676</td>\n",
       "      <td>-1.289676</td>\n",
       "    </tr>\n",
       "  </tbody>\n",
       "</table>\n",
       "</div>"
      ],
      "text/plain": [
       "   NumAmostra      Area     Delta   Output1   Output2\n",
       "0    0.534314  0.565990  0.373528  1.289676 -1.289676\n",
       "1    1.693069  0.762257  0.035312  1.289676 -1.289676\n",
       "2    0.476377  0.173457  0.007127  1.289676 -1.289676\n",
       "3   -1.377630 -0.448055  0.711745  1.289676 -1.289676\n",
       "4    0.650190  0.271590 -0.133796  1.289676 -1.289676"
      ]
     },
     "execution_count": 17,
     "metadata": {},
     "output_type": "execute_result"
    }
   ],
   "source": [
    "DataSetScaled.head()"
   ]
  },
  {
   "cell_type": "markdown",
   "metadata": {},
   "source": [
    "### Conjunto de dados para o treinamento"
   ]
  },
  {
   "cell_type": "code",
   "execution_count": 18,
   "metadata": {},
   "outputs": [],
   "source": [
    "X = DataSetScaled.drop(['Output1', 'Output2'],axis=1)\n",
    "y = DataSet[['Output1','Output2']]"
   ]
  },
  {
   "cell_type": "markdown",
   "metadata": {},
   "source": [
    "## Separando os dados de treinamento e de validação\n",
    "\n",
    "Agora vamos dividir os dados em um conjunto de treinamento e um conjunto de testes. Vamos treinar o modelo no conjunto de treinamento, em seguida, usar o conjunto de teste para validar o modelo.\n",
    "\n",
    "Em nosso exemplo iremos separar de forma randômica 33% dos dados para validação. Estes dados não serão utilizados para determinação dos coeficientes preditores do modelo. \n"
   ]
  },
  {
   "cell_type": "code",
   "execution_count": 19,
   "metadata": {},
   "outputs": [
    {
     "name": "stdout",
     "output_type": "stream",
     "text": [
      "     Output1  Output2\n",
      "89         1        0\n",
      "212        0        1\n",
      "218        0        1\n",
      "96         1        0\n",
      "88         1        0\n",
      "112        0        1\n",
      "13         1        0\n",
      "141        0        1\n",
      "202        0        1\n",
      "81         1        0\n",
      "39         1        0\n",
      "32         1        0\n",
      "241        0        1\n",
      "159        0        1\n",
      "118        0        1\n",
      "95         1        0\n",
      "172        0        1\n",
      "240        0        1\n",
      "48         1        0\n",
      "228        0        1\n",
      "121        0        1\n",
      "199        0        1\n",
      "209        0        1\n",
      "69         1        0\n",
      "55         1        0\n",
      "41         1        0\n",
      "215        0        1\n",
      "176        0        1\n",
      "249        0        1\n",
      "156        0        1\n",
      "..       ...      ...\n",
      "177        0        1\n",
      "56         1        0\n",
      "34         1        0\n",
      "158        0        1\n",
      "257        0        1\n",
      "227        0        1\n",
      "109        0        1\n",
      "37         1        0\n",
      "74         1        0\n",
      "133        0        1\n",
      "78         1        0\n",
      "236        0        1\n",
      "255        0        1\n",
      "15         1        0\n",
      "12         1        0\n",
      "148        0        1\n",
      "233        0        1\n",
      "35         1        0\n",
      "119        0        1\n",
      "237        0        1\n",
      "216        0        1\n",
      "64         1        0\n",
      "165        0        1\n",
      "25         1        0\n",
      "142        0        1\n",
      "22         1        0\n",
      "42         1        0\n",
      "160        0        1\n",
      "93         1        0\n",
      "50         1        0\n",
      "\n",
      "[79 rows x 2 columns]\n",
      "     NumAmostra      Area     Delta\n",
      "89     0.476377 -0.186366 -0.331089\n",
      "212   -0.856191 -1.036855 -0.725675\n",
      "218    1.229567 -0.088232 -0.669306\n",
      "96    -1.667319 -0.938722  0.007127\n",
      "88    -0.103000 -0.415344 -0.472013\n",
      "112    2.388321  1.645458  0.824483\n",
      "13     0.766065 -0.317210 -0.472013\n",
      "141   -0.334751 -0.153655 -0.161981\n",
      "202   -0.392689 -0.382633 -0.190166\n",
      "81    -0.276814 -0.284499 -0.077427\n",
      "39     0.186688 -0.153655 -0.246535\n",
      "32     0.360501 -0.546188 -0.697490\n",
      "241   -1.551443 -0.775166  0.063497\n",
      "159   -0.566502 -0.677033 -0.584751\n",
      "118   -0.334751 -0.219077 -0.274720\n",
      "95     0.012875 -0.055521 -0.218350\n",
      "172    0.128750 -0.382633 -0.049242\n",
      "240    0.766065 -0.088232 -0.415643\n",
      "48     0.186688 -0.153655 -0.302904\n",
      "228   -0.682378 -0.938722 -0.725675\n",
      "121   -0.972066 -0.840588 -0.472013\n",
      "199   -0.103000  2.234258  2.515565\n",
      "209   -2.420509 -1.723789 -0.866598\n",
      "69     0.302564 -0.382633 -0.556567\n",
      "55     1.113692  0.729546  0.035312\n",
      "41     0.186688 -0.448055 -0.500197\n",
      "215   -0.856191 -1.004144 -0.697490\n",
      "176   -0.103000  2.365103  2.825597\n",
      "249   -0.856191 -0.775166 -0.500197\n",
      "156    0.070813  2.005280  1.275439\n",
      "..          ...       ...       ...\n",
      "177   -0.392689 -0.153655 -0.077427\n",
      "56    -0.218876  0.108034  0.204420\n",
      "34     0.128750 -0.349921 -0.415643\n",
      "158   -0.392689 -0.349921 -0.331089\n",
      "257   -2.188758 -1.625656 -0.838414\n",
      "227   -2.999886  0.337012 -0.979337\n",
      "109   -1.145879 -0.807877 -0.274720\n",
      "37     0.302564 -0.284499 -0.528382\n",
      "74     0.881941  0.042612 -0.500197\n",
      "133    2.909761  1.122080 -0.415643\n",
      "78    -0.334751 -0.709744 -0.556567\n",
      "236   -0.276814 -0.186366 -0.190166\n",
      "255   -3.289575  4.491326 -1.063891\n",
      "15     0.881941  0.009901 -0.472013\n",
      "12     0.418439 -0.120943 -0.302904\n",
      "148    1.287505  0.794968  0.176235\n",
      "233   -0.334751 -0.219077 -0.218350\n",
      "35     0.476377 -0.186366 -0.331089\n",
      "119   -0.334751  0.958524  0.711745\n",
      "237   -0.508564 -0.775166 -0.556567\n",
      "216   -0.856191 -0.677033 -0.133796\n",
      "64     0.012875 -0.415344 -0.443828\n",
      "165    0.128750  0.238879  0.007127\n",
      "25     0.418439 -0.120943 -0.472013\n",
      "142    1.808944  0.925813 -0.105612\n",
      "22     0.534314 -0.251788 -0.528382\n",
      "42     0.534314 -0.120943 -0.500197\n",
      "160    2.214508  1.285635  0.035312\n",
      "93     0.128750  0.009901  0.035312\n",
      "50     0.360501 -0.055521 -0.387459\n",
      "\n",
      "[79 rows x 3 columns]\n"
     ]
    }
   ],
   "source": [
    "from sklearn.model_selection import train_test_split\n",
    "X_train, X_test, y_train, y_test = train_test_split(X, y, test_size=0.30, random_state=101)\n",
    "\n",
    "print(y_test)\n",
    "print(X_test)"
   ]
  },
  {
   "cell_type": "markdown",
   "metadata": {},
   "source": [
    "## Criando o Modelo de MPL"
   ]
  },
  {
   "cell_type": "code",
   "execution_count": 20,
   "metadata": {},
   "outputs": [],
   "source": [
    "#Tamanho do DataSet de Treinamento\n",
    "n_records, n_features = X_train.shape\n",
    "\n",
    "#Arquitetura da MPL\n",
    "N_input = 3\n",
    "N_hidden = 8\n",
    "N_output = 2\n",
    "learnrate = 0.1"
   ]
  },
  {
   "cell_type": "markdown",
   "metadata": {},
   "source": [
    "## Inicialização dos pesos da MPL (Aleatório)"
   ]
  },
  {
   "cell_type": "code",
   "execution_count": 21,
   "metadata": {},
   "outputs": [
    {
     "name": "stdout",
     "output_type": "stream",
     "text": [
      "Pesos da Camada Oculta:\n",
      "[[ 0.02901426 -0.0172467   0.07730408  0.15907373  0.08808166 -0.02178443\n",
      "   0.00331759  0.02172861 -0.01242607  0.01132873  0.03976527  0.01932742\n",
      "  -0.04935573 -0.03585258  0.04448147  0.06182428]\n",
      " [-0.03991284  0.15257394  0.04814619  0.10005947 -0.01212571 -0.09846386\n",
      "  -0.15558205  0.06512701 -0.05404505  0.04369234 -0.05481928 -0.18021789\n",
      "  -0.01007267 -0.02070705  0.04581684  0.02980062]\n",
      " [ 0.02709119 -0.12727534  0.05258325  0.14825816  0.12145555 -0.04697295\n",
      "  -0.07287883 -0.00163048  0.02025917 -0.04202537 -0.0685506   0.03817322\n",
      "   0.10230573 -0.04280535  0.03616569 -0.04319325]]\n",
      "Pesos da Camada de Saída:\n",
      "[[ 0.02086437 -0.18887324]\n",
      " [-0.0019197  -0.00066783]\n",
      " [-0.07425691  0.00316803]\n",
      " [ 0.00228795 -0.11889349]\n",
      " [ 0.0955552  -0.00039347]\n",
      " [ 0.08382263 -0.06853204]\n",
      " [ 0.04392565 -0.04262767]\n",
      " [-0.06324066  0.13894181]\n",
      " [ 0.08691255 -0.04007399]\n",
      " [-0.00918692  0.12259307]\n",
      " [-0.07745605 -0.04987382]\n",
      " [ 0.03281616  0.01418235]\n",
      " [ 0.04412481  0.06365428]\n",
      " [-0.1095509   0.08252574]\n",
      " [-0.04502643 -0.07993248]\n",
      " [ 0.07497905  0.03586557]]\n"
     ]
    }
   ],
   "source": [
    "#Pesos da Camada Oculta (Inicialização Aleatória)\n",
    "weights_input_hidden = np.random.normal(0, scale=0.1, size=(N_input, N_hidden))\n",
    "print('Pesos da Camada Oculta:')\n",
    "print(weights_input_hidden)\n",
    "\n",
    "#Pesos da Camada de Saída (Inicialização Aleatória)\n",
    "weights_hidden_output = np.random.normal(0, scale=0.1, size=(N_hidden, N_output))\n",
    "print('Pesos da Camada de Saída:')\n",
    "print(weights_hidden_output)"
   ]
  },
  {
   "cell_type": "markdown",
   "metadata": {},
   "source": [
    "## Algoritmo Backpropagation"
   ]
  },
  {
   "cell_type": "code",
   "execution_count": 22,
   "metadata": {},
   "outputs": [
    {
     "name": "stdout",
     "output_type": "stream",
     "text": [
      "Erro quadrático no treinamento:  0.2387629470757103\n",
      "Erro quadrático no treinamento:  0.03580431575549801\n",
      "Erro quadrático no treinamento:  0.006699189797481632\n",
      "Erro quadrático no treinamento:  0.002403308245415111\n",
      "Erro quadrático no treinamento:  0.0011456659952086177\n",
      "Erro quadrático no treinamento:  0.0006424753367319101\n",
      "Erro quadrático no treinamento:  0.000394879888332549\n",
      "Erro quadrático no treinamento:  0.00022769187408767228\n",
      "Erro quadrático no treinamento:  0.00012458166450785008\n",
      "Erro quadrático no treinamento:  7.284556237295084e-05\n",
      "Erro quadrático no treinamento:  3.984732954947031e-05\n",
      "Erro quadrático no treinamento:  1.952330269988628e-05\n",
      "Erro quadrático no treinamento:  9.080147717951176e-06\n",
      "Erro quadrático no treinamento:  4.091144141077631e-06\n",
      "Erro quadrático no treinamento:  1.8580429673836703e-06\n",
      "Erro quadrático no treinamento:  8.63631732666688e-07\n",
      "Erro quadrático no treinamento:  3.984432989491072e-07\n",
      "Erro quadrático no treinamento:  1.8601948412427165e-07\n",
      "Erro quadrático no treinamento:  8.880399784242601e-08\n",
      "Erro quadrático no treinamento:  4.3406817973783676e-08\n"
     ]
    }
   ],
   "source": [
    "epochs = 200000\n",
    "last_loss=None\n",
    "EvolucaoError=[]\n",
    "IndiceError=[]\n",
    "\n",
    "for e in range(epochs):\n",
    "    delta_w_i_h = np.zeros(weights_input_hidden.shape)\n",
    "    delta_w_h_o = np.zeros(weights_hidden_output.shape)\n",
    "    for xi, yi in zip(X_train.values, y_train.values):\n",
    "        \n",
    "# Forward Pass\n",
    "        #Camada oculta\n",
    "        #Calcule a combinação linear de entradas e pesos sinápticos\n",
    "        hidden_layer_input = np.dot(xi, weights_input_hidden)\n",
    "        #Aplicado a função de ativação\n",
    "        hidden_layer_output = sigmoid(hidden_layer_input)\n",
    "    \n",
    "        #Camada de Saída\n",
    "        #Calcule a combinação linear de entradas e pesos sinápticos\n",
    "        output_layer_in = np.dot(hidden_layer_output, weights_hidden_output)\n",
    "\n",
    "        #Aplicado a função de ativação \n",
    "        output = sigmoid(output_layer_in)\n",
    "        #print('As saídas da rede são',output)\n",
    "#-------------------------------------------    \n",
    "    \n",
    "# Backward Pass\n",
    "        ## TODO: Cálculo do Erro\n",
    "        error = yi - output\n",
    "    \n",
    "        # TODO: Calcule o termo de erro de saída (Gradiente da Camada de Saída)\n",
    "        output_error_term = error * output * (1 - output)\n",
    "\n",
    "        # TODO: Calcule a contribuição da camada oculta para o erro\n",
    "        hidden_error = np.dot(weights_hidden_output,output_error_term)\n",
    "    \n",
    "        # TODO: Calcule o termo de erro da camada oculta (Gradiente da Camada Oculta)\n",
    "        hidden_error_term = hidden_error * hidden_layer_output * (1 - hidden_layer_output)\n",
    "    \n",
    "        # TODO: Calcule a variação do peso da camada de saída\n",
    "        delta_w_h_o += output_error_term*hidden_layer_output[:, None]\n",
    "\n",
    "        # TODO: Calcule a variação do peso da camada oculta\n",
    "        delta_w_i_h += hidden_error_term * xi[:, None]\n",
    "        \n",
    "    #Atualização dos pesos na época em questão\n",
    "    weights_input_hidden += learnrate * delta_w_i_h / n_records\n",
    "    weights_hidden_output += learnrate * delta_w_h_o / n_records\n",
    "    \n",
    "    \n",
    "    # Imprimir o erro quadrático médio no conjunto de treinamento\n",
    "    \n",
    "    if  e % (epochs / 20) == 0:\n",
    "        hidden_output = sigmoid(np.dot(xi, weights_input_hidden))\n",
    "        out = sigmoid(np.dot(hidden_output,\n",
    "                             weights_hidden_output))\n",
    "        loss = np.mean((out - yi) ** 2)\n",
    "\n",
    "        if last_loss and last_loss < loss:\n",
    "            print(\"Erro quadrático no treinamento: \", loss, \" Atenção: O erro está aumentando\")\n",
    "        else:\n",
    "            print(\"Erro quadrático no treinamento: \", loss)\n",
    "        last_loss = loss\n",
    "         \n",
    "        EvolucaoError.append(loss)\n",
    "        IndiceError.append(e)"
   ]
  },
  {
   "cell_type": "code",
   "execution_count": 23,
   "metadata": {},
   "outputs": [],
   "source": [
    "### Gráfico da Evolução do Erro"
   ]
  },
  {
   "cell_type": "code",
   "execution_count": 24,
   "metadata": {},
   "outputs": [
    {
     "data": {
      "image/png": "[encoded data removed]",
      "text/plain": [
       "<Figure size 432x288 with 1 Axes>"
      ]
     },
     "metadata": {},
     "output_type": "display_data"
    }
   ],
   "source": [
    "plt.plot(IndiceError, EvolucaoError, 'r') # 'r' is the color red\n",
    "plt.xlabel('')\n",
    "plt.ylabel('Erro Quadrático')\n",
    "plt.title('Evolução do Erro no treinamento da MPL')\n",
    "plt.show()"
   ]
  },
  {
   "cell_type": "markdown",
   "metadata": {},
   "source": [
    "## Validação do modelo"
   ]
  },
  {
   "cell_type": "code",
   "execution_count": 25,
   "metadata": {},
   "outputs": [
    {
     "name": "stdout",
     "output_type": "stream",
     "text": [
      "A Acurácia da Predição é de: 0.861\n"
     ]
    }
   ],
   "source": [
    "# Calcule a precisão dos dados de teste\n",
    "n_records, n_features = X_test.shape\n",
    "predictions=0\n",
    "\n",
    "for xi, yi in zip(X_test.values, y_test.values):\n",
    "\n",
    "# Forward Pass\n",
    "        #Camada oculta\n",
    "        #Calcule a combinação linear de entradas e pesos sinápticos\n",
    "        hidden_layer_input = np.dot(xi, weights_input_hidden)\n",
    "        #Aplicado a função de ativação\n",
    "        hidden_layer_output = sigmoid(hidden_layer_input)\n",
    "    \n",
    "        #Camada de Saída\n",
    "        #Calcule a combinação linear de entradas e pesos sinápticos\n",
    "        output_layer_in = np.dot(hidden_layer_output, weights_hidden_output)\n",
    "\n",
    "        #Aplicado a função de ativação \n",
    "        output = sigmoid(output_layer_in)\n",
    "\n",
    "#-------------------------------------------    \n",
    "    \n",
    "#Cálculo do Erro da Predição\n",
    "        ## TODO: Cálculo do Erro        \n",
    "        if (output[0]>output[1]):\n",
    "            if (yi[0]>yi[1]):\n",
    "                predictions+=1\n",
    "                \n",
    "        if (output[1]>=output[0]):\n",
    "            if (yi[1]>yi[0]):\n",
    "                predictions+=1\n",
    "\n",
    "print(\"A Acurácia da Predição é de: {:.3f}\".format(predictions/n_records))\n",
    " \n"
   ]
  },
  {
   "cell_type": "code",
   "execution_count": null,
   "metadata": {},
   "outputs": [],
   "source": []
  },
  {
   "cell_type": "code",
   "execution_count": null,
   "metadata": {},
   "outputs": [],
   "source": []
  }
 ],
 "metadata": {
  "kernelspec": {
   "display_name": "Python 3",
   "language": "python",
   "name": "python3"
  },
  "language_info": {
   "codemirror_mode": {
    "name": "ipython",
    "version": 3
   },
   "file_extension": ".py",
   "mimetype": "text/x-python",
   "name": "python",
   "nbconvert_exporter": "python",
   "pygments_lexer": "ipython3",
   "version": "3.7.3"
  }
 },
 "nbformat": 4,
 "nbformat_minor": 2
}
