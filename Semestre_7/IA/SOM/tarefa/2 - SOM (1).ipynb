{
 "cells": [
  {
   "cell_type": "markdown",
   "metadata": {},
   "source": [
    "# Mapas Auto organizáveis de Kohonen"
   ]
  },
  {
   "cell_type": "markdown",
   "metadata": {},
   "source": [
    "# **Vamos começar!**\n",
    "Baixar no UCI Machine Learning Repository um repositório de sua escolha **.csv*. Como exemplo, na pasta /solucoes temos uma SOM para análise química de vinhos cultivados na mesma região da Itália, vamos preparar nosso ambiente com as bibliotecas necessárias e depois importaremos os dados!\n",
    "\n",
    "## Importando as bibliotecas"
   ]
  },
  {
   "cell_type": "code",
   "execution_count": 1,
   "metadata": {},
   "outputs": [],
   "source": [
    "# instalar a biblioteca <minsom> *no Anaconda Prompt digite <> pip install minisom\n",
    "from minisom import MiniSom  \n",
    "import pandas as pd\n",
    "import numpy as np"
   ]
  },
  {
   "cell_type": "code",
   "execution_count": 2,
   "metadata": {},
   "outputs": [],
   "source": [
    "base = pd.read_csv('wines.csv')"
   ]
  },
  {
   "cell_type": "markdown",
   "metadata": {},
   "source": [
    "### Camada de entrada e rótulos para validação"
   ]
  },
  {
   "cell_type": "code",
   "execution_count": 17,
   "metadata": {},
   "outputs": [
    {
     "data": {
      "text/html": [
       "<div>\n",
       "<style scoped>\n",
       "    .dataframe tbody tr th:only-of-type {\n",
       "        vertical-align: middle;\n",
       "    }\n",
       "\n",
       "    .dataframe tbody tr th {\n",
       "        vertical-align: top;\n",
       "    }\n",
       "\n",
       "    .dataframe thead th {\n",
       "        text-align: right;\n",
       "    }\n",
       "</style>\n",
       "<table border=\"1\" class=\"dataframe\">\n",
       "  <thead>\n",
       "    <tr style=\"text-align: right;\">\n",
       "      <th></th>\n",
       "      <th>Class</th>\n",
       "      <th>Alcohol</th>\n",
       "      <th>Malic acid</th>\n",
       "      <th>Ash</th>\n",
       "      <th>Alcalinity of ash</th>\n",
       "      <th>Magnesium</th>\n",
       "      <th>Total phenols</th>\n",
       "      <th>Flavanoids</th>\n",
       "      <th>Nonflavanoid phenols</th>\n",
       "      <th>Proanthocyanins</th>\n",
       "      <th>Color intensity</th>\n",
       "      <th>Hue</th>\n",
       "      <th>OD280/OD315 of diluted wines</th>\n",
       "      <th>Proline</th>\n",
       "    </tr>\n",
       "  </thead>\n",
       "  <tbody>\n",
       "    <tr>\n",
       "      <th>0</th>\n",
       "      <td>0</td>\n",
       "      <td>14.23</td>\n",
       "      <td>1.71</td>\n",
       "      <td>2.43</td>\n",
       "      <td>15.6</td>\n",
       "      <td>127</td>\n",
       "      <td>2.80</td>\n",
       "      <td>3.06</td>\n",
       "      <td>0.28</td>\n",
       "      <td>2.29</td>\n",
       "      <td>5.64</td>\n",
       "      <td>1.04</td>\n",
       "      <td>3.92</td>\n",
       "      <td>1065</td>\n",
       "    </tr>\n",
       "    <tr>\n",
       "      <th>1</th>\n",
       "      <td>0</td>\n",
       "      <td>13.20</td>\n",
       "      <td>1.78</td>\n",
       "      <td>2.14</td>\n",
       "      <td>11.2</td>\n",
       "      <td>100</td>\n",
       "      <td>2.65</td>\n",
       "      <td>2.76</td>\n",
       "      <td>0.26</td>\n",
       "      <td>1.28</td>\n",
       "      <td>4.38</td>\n",
       "      <td>1.05</td>\n",
       "      <td>3.40</td>\n",
       "      <td>1050</td>\n",
       "    </tr>\n",
       "    <tr>\n",
       "      <th>2</th>\n",
       "      <td>0</td>\n",
       "      <td>13.16</td>\n",
       "      <td>2.36</td>\n",
       "      <td>2.67</td>\n",
       "      <td>18.6</td>\n",
       "      <td>101</td>\n",
       "      <td>2.80</td>\n",
       "      <td>3.24</td>\n",
       "      <td>0.30</td>\n",
       "      <td>2.81</td>\n",
       "      <td>5.68</td>\n",
       "      <td>1.03</td>\n",
       "      <td>3.17</td>\n",
       "      <td>1185</td>\n",
       "    </tr>\n",
       "    <tr>\n",
       "      <th>3</th>\n",
       "      <td>0</td>\n",
       "      <td>14.37</td>\n",
       "      <td>1.95</td>\n",
       "      <td>2.50</td>\n",
       "      <td>16.8</td>\n",
       "      <td>113</td>\n",
       "      <td>3.85</td>\n",
       "      <td>3.49</td>\n",
       "      <td>0.24</td>\n",
       "      <td>2.18</td>\n",
       "      <td>7.80</td>\n",
       "      <td>0.86</td>\n",
       "      <td>3.45</td>\n",
       "      <td>1480</td>\n",
       "    </tr>\n",
       "    <tr>\n",
       "      <th>4</th>\n",
       "      <td>0</td>\n",
       "      <td>13.24</td>\n",
       "      <td>2.59</td>\n",
       "      <td>2.87</td>\n",
       "      <td>21.0</td>\n",
       "      <td>118</td>\n",
       "      <td>2.80</td>\n",
       "      <td>2.69</td>\n",
       "      <td>0.39</td>\n",
       "      <td>1.82</td>\n",
       "      <td>4.32</td>\n",
       "      <td>1.04</td>\n",
       "      <td>2.93</td>\n",
       "      <td>735</td>\n",
       "    </tr>\n",
       "    <tr>\n",
       "      <th>...</th>\n",
       "      <td>...</td>\n",
       "      <td>...</td>\n",
       "      <td>...</td>\n",
       "      <td>...</td>\n",
       "      <td>...</td>\n",
       "      <td>...</td>\n",
       "      <td>...</td>\n",
       "      <td>...</td>\n",
       "      <td>...</td>\n",
       "      <td>...</td>\n",
       "      <td>...</td>\n",
       "      <td>...</td>\n",
       "      <td>...</td>\n",
       "      <td>...</td>\n",
       "    </tr>\n",
       "    <tr>\n",
       "      <th>173</th>\n",
       "      <td>2</td>\n",
       "      <td>13.71</td>\n",
       "      <td>5.65</td>\n",
       "      <td>2.45</td>\n",
       "      <td>20.5</td>\n",
       "      <td>95</td>\n",
       "      <td>1.68</td>\n",
       "      <td>0.61</td>\n",
       "      <td>0.52</td>\n",
       "      <td>1.06</td>\n",
       "      <td>7.70</td>\n",
       "      <td>0.64</td>\n",
       "      <td>1.74</td>\n",
       "      <td>740</td>\n",
       "    </tr>\n",
       "    <tr>\n",
       "      <th>174</th>\n",
       "      <td>2</td>\n",
       "      <td>13.40</td>\n",
       "      <td>3.91</td>\n",
       "      <td>2.48</td>\n",
       "      <td>23.0</td>\n",
       "      <td>102</td>\n",
       "      <td>1.80</td>\n",
       "      <td>0.75</td>\n",
       "      <td>0.43</td>\n",
       "      <td>1.41</td>\n",
       "      <td>7.30</td>\n",
       "      <td>0.70</td>\n",
       "      <td>1.56</td>\n",
       "      <td>750</td>\n",
       "    </tr>\n",
       "    <tr>\n",
       "      <th>175</th>\n",
       "      <td>2</td>\n",
       "      <td>13.27</td>\n",
       "      <td>4.28</td>\n",
       "      <td>2.26</td>\n",
       "      <td>20.0</td>\n",
       "      <td>120</td>\n",
       "      <td>1.59</td>\n",
       "      <td>0.69</td>\n",
       "      <td>0.43</td>\n",
       "      <td>1.35</td>\n",
       "      <td>10.20</td>\n",
       "      <td>0.59</td>\n",
       "      <td>1.56</td>\n",
       "      <td>835</td>\n",
       "    </tr>\n",
       "    <tr>\n",
       "      <th>176</th>\n",
       "      <td>2</td>\n",
       "      <td>13.17</td>\n",
       "      <td>2.59</td>\n",
       "      <td>2.37</td>\n",
       "      <td>20.0</td>\n",
       "      <td>120</td>\n",
       "      <td>1.65</td>\n",
       "      <td>0.68</td>\n",
       "      <td>0.53</td>\n",
       "      <td>1.46</td>\n",
       "      <td>9.30</td>\n",
       "      <td>0.60</td>\n",
       "      <td>1.62</td>\n",
       "      <td>840</td>\n",
       "    </tr>\n",
       "    <tr>\n",
       "      <th>177</th>\n",
       "      <td>2</td>\n",
       "      <td>14.13</td>\n",
       "      <td>4.10</td>\n",
       "      <td>2.74</td>\n",
       "      <td>24.5</td>\n",
       "      <td>96</td>\n",
       "      <td>2.05</td>\n",
       "      <td>0.76</td>\n",
       "      <td>0.56</td>\n",
       "      <td>1.35</td>\n",
       "      <td>9.20</td>\n",
       "      <td>0.61</td>\n",
       "      <td>1.60</td>\n",
       "      <td>560</td>\n",
       "    </tr>\n",
       "  </tbody>\n",
       "</table>\n",
       "<p>178 rows × 14 columns</p>\n",
       "</div>"
      ],
      "text/plain": [
       "     Class  Alcohol  Malic acid   Ash   Alcalinity of ash  Magnesium  \\\n",
       "0        0    14.23        1.71  2.43                15.6        127   \n",
       "1        0    13.20        1.78  2.14                11.2        100   \n",
       "2        0    13.16        2.36  2.67                18.6        101   \n",
       "3        0    14.37        1.95  2.50                16.8        113   \n",
       "4        0    13.24        2.59  2.87                21.0        118   \n",
       "..     ...      ...         ...   ...                 ...        ...   \n",
       "173      2    13.71        5.65  2.45                20.5         95   \n",
       "174      2    13.40        3.91  2.48                23.0        102   \n",
       "175      2    13.27        4.28  2.26                20.0        120   \n",
       "176      2    13.17        2.59  2.37                20.0        120   \n",
       "177      2    14.13        4.10  2.74                24.5         96   \n",
       "\n",
       "     Total phenols  Flavanoids  Nonflavanoid phenols  Proanthocyanins  \\\n",
       "0             2.80        3.06                  0.28             2.29   \n",
       "1             2.65        2.76                  0.26             1.28   \n",
       "2             2.80        3.24                  0.30             2.81   \n",
       "3             3.85        3.49                  0.24             2.18   \n",
       "4             2.80        2.69                  0.39             1.82   \n",
       "..             ...         ...                   ...              ...   \n",
       "173           1.68        0.61                  0.52             1.06   \n",
       "174           1.80        0.75                  0.43             1.41   \n",
       "175           1.59        0.69                  0.43             1.35   \n",
       "176           1.65        0.68                  0.53             1.46   \n",
       "177           2.05        0.76                  0.56             1.35   \n",
       "\n",
       "     Color intensity   Hue  OD280/OD315 of diluted wines  Proline  \n",
       "0               5.64  1.04                          3.92     1065  \n",
       "1               4.38  1.05                          3.40     1050  \n",
       "2               5.68  1.03                          3.17     1185  \n",
       "3               7.80  0.86                          3.45     1480  \n",
       "4               4.32  1.04                          2.93      735  \n",
       "..               ...   ...                           ...      ...  \n",
       "173             7.70  0.64                          1.74      740  \n",
       "174             7.30  0.70                          1.56      750  \n",
       "175            10.20  0.59                          1.56      835  \n",
       "176             9.30  0.60                          1.62      840  \n",
       "177             9.20  0.61                          1.60      560  \n",
       "\n",
       "[178 rows x 14 columns]"
      ]
     },
     "execution_count": 17,
     "metadata": {},
     "output_type": "execute_result"
    }
   ],
   "source": [
    "base.head(200)"
   ]
  },
  {
   "cell_type": "code",
   "execution_count": 5,
   "metadata": {},
   "outputs": [
    {
     "data": {
      "text/html": [
       "<div>\n",
       "<style scoped>\n",
       "    .dataframe tbody tr th:only-of-type {\n",
       "        vertical-align: middle;\n",
       "    }\n",
       "\n",
       "    .dataframe tbody tr th {\n",
       "        vertical-align: top;\n",
       "    }\n",
       "\n",
       "    .dataframe thead th {\n",
       "        text-align: right;\n",
       "    }\n",
       "</style>\n",
       "<table border=\"1\" class=\"dataframe\">\n",
       "  <thead>\n",
       "    <tr style=\"text-align: right;\">\n",
       "      <th></th>\n",
       "      <th>Class</th>\n",
       "      <th>Alcohol</th>\n",
       "      <th>Malic acid</th>\n",
       "      <th>Ash</th>\n",
       "      <th>Alcalinity of ash</th>\n",
       "      <th>Magnesium</th>\n",
       "      <th>Total phenols</th>\n",
       "      <th>Flavanoids</th>\n",
       "      <th>Nonflavanoid phenols</th>\n",
       "      <th>Proanthocyanins</th>\n",
       "      <th>Color intensity</th>\n",
       "      <th>Hue</th>\n",
       "      <th>OD280/OD315 of diluted wines</th>\n",
       "      <th>Proline</th>\n",
       "    </tr>\n",
       "  </thead>\n",
       "  <tbody>\n",
       "    <tr>\n",
       "      <th>count</th>\n",
       "      <td>178.000000</td>\n",
       "      <td>178.000000</td>\n",
       "      <td>178.000000</td>\n",
       "      <td>178.000000</td>\n",
       "      <td>178.000000</td>\n",
       "      <td>178.000000</td>\n",
       "      <td>178.000000</td>\n",
       "      <td>178.000000</td>\n",
       "      <td>178.000000</td>\n",
       "      <td>178.000000</td>\n",
       "      <td>178.000000</td>\n",
       "      <td>178.000000</td>\n",
       "      <td>178.000000</td>\n",
       "      <td>178.000000</td>\n",
       "    </tr>\n",
       "    <tr>\n",
       "      <th>mean</th>\n",
       "      <td>1.938202</td>\n",
       "      <td>13.000618</td>\n",
       "      <td>2.336348</td>\n",
       "      <td>2.366517</td>\n",
       "      <td>19.494944</td>\n",
       "      <td>99.741573</td>\n",
       "      <td>2.295112</td>\n",
       "      <td>2.029270</td>\n",
       "      <td>0.361854</td>\n",
       "      <td>1.590899</td>\n",
       "      <td>5.058090</td>\n",
       "      <td>0.957449</td>\n",
       "      <td>2.611685</td>\n",
       "      <td>746.893258</td>\n",
       "    </tr>\n",
       "    <tr>\n",
       "      <th>std</th>\n",
       "      <td>0.775035</td>\n",
       "      <td>0.811827</td>\n",
       "      <td>1.117146</td>\n",
       "      <td>0.274344</td>\n",
       "      <td>3.339564</td>\n",
       "      <td>14.282484</td>\n",
       "      <td>0.625851</td>\n",
       "      <td>0.998859</td>\n",
       "      <td>0.124453</td>\n",
       "      <td>0.572359</td>\n",
       "      <td>2.318286</td>\n",
       "      <td>0.228572</td>\n",
       "      <td>0.709990</td>\n",
       "      <td>314.907474</td>\n",
       "    </tr>\n",
       "    <tr>\n",
       "      <th>min</th>\n",
       "      <td>1.000000</td>\n",
       "      <td>11.030000</td>\n",
       "      <td>0.740000</td>\n",
       "      <td>1.360000</td>\n",
       "      <td>10.600000</td>\n",
       "      <td>70.000000</td>\n",
       "      <td>0.980000</td>\n",
       "      <td>0.340000</td>\n",
       "      <td>0.130000</td>\n",
       "      <td>0.410000</td>\n",
       "      <td>1.280000</td>\n",
       "      <td>0.480000</td>\n",
       "      <td>1.270000</td>\n",
       "      <td>278.000000</td>\n",
       "    </tr>\n",
       "    <tr>\n",
       "      <th>25%</th>\n",
       "      <td>1.000000</td>\n",
       "      <td>12.362500</td>\n",
       "      <td>1.602500</td>\n",
       "      <td>2.210000</td>\n",
       "      <td>17.200000</td>\n",
       "      <td>88.000000</td>\n",
       "      <td>1.742500</td>\n",
       "      <td>1.205000</td>\n",
       "      <td>0.270000</td>\n",
       "      <td>1.250000</td>\n",
       "      <td>3.220000</td>\n",
       "      <td>0.782500</td>\n",
       "      <td>1.937500</td>\n",
       "      <td>500.500000</td>\n",
       "    </tr>\n",
       "    <tr>\n",
       "      <th>50%</th>\n",
       "      <td>2.000000</td>\n",
       "      <td>13.050000</td>\n",
       "      <td>1.865000</td>\n",
       "      <td>2.360000</td>\n",
       "      <td>19.500000</td>\n",
       "      <td>98.000000</td>\n",
       "      <td>2.355000</td>\n",
       "      <td>2.135000</td>\n",
       "      <td>0.340000</td>\n",
       "      <td>1.555000</td>\n",
       "      <td>4.690000</td>\n",
       "      <td>0.965000</td>\n",
       "      <td>2.780000</td>\n",
       "      <td>673.500000</td>\n",
       "    </tr>\n",
       "    <tr>\n",
       "      <th>75%</th>\n",
       "      <td>3.000000</td>\n",
       "      <td>13.677500</td>\n",
       "      <td>3.082500</td>\n",
       "      <td>2.557500</td>\n",
       "      <td>21.500000</td>\n",
       "      <td>107.000000</td>\n",
       "      <td>2.800000</td>\n",
       "      <td>2.875000</td>\n",
       "      <td>0.437500</td>\n",
       "      <td>1.950000</td>\n",
       "      <td>6.200000</td>\n",
       "      <td>1.120000</td>\n",
       "      <td>3.170000</td>\n",
       "      <td>985.000000</td>\n",
       "    </tr>\n",
       "    <tr>\n",
       "      <th>max</th>\n",
       "      <td>3.000000</td>\n",
       "      <td>14.830000</td>\n",
       "      <td>5.800000</td>\n",
       "      <td>3.230000</td>\n",
       "      <td>30.000000</td>\n",
       "      <td>162.000000</td>\n",
       "      <td>3.880000</td>\n",
       "      <td>5.080000</td>\n",
       "      <td>0.660000</td>\n",
       "      <td>3.580000</td>\n",
       "      <td>13.000000</td>\n",
       "      <td>1.710000</td>\n",
       "      <td>4.000000</td>\n",
       "      <td>1680.000000</td>\n",
       "    </tr>\n",
       "  </tbody>\n",
       "</table>\n",
       "</div>"
      ],
      "text/plain": [
       "            Class     Alcohol  Malic acid         Ash   Alcalinity of ash  \\\n",
       "count  178.000000  178.000000  178.000000  178.000000          178.000000   \n",
       "mean     1.938202   13.000618    2.336348    2.366517           19.494944   \n",
       "std      0.775035    0.811827    1.117146    0.274344            3.339564   \n",
       "min      1.000000   11.030000    0.740000    1.360000           10.600000   \n",
       "25%      1.000000   12.362500    1.602500    2.210000           17.200000   \n",
       "50%      2.000000   13.050000    1.865000    2.360000           19.500000   \n",
       "75%      3.000000   13.677500    3.082500    2.557500           21.500000   \n",
       "max      3.000000   14.830000    5.800000    3.230000           30.000000   \n",
       "\n",
       "        Magnesium  Total phenols  Flavanoids  Nonflavanoid phenols  \\\n",
       "count  178.000000     178.000000  178.000000            178.000000   \n",
       "mean    99.741573       2.295112    2.029270              0.361854   \n",
       "std     14.282484       0.625851    0.998859              0.124453   \n",
       "min     70.000000       0.980000    0.340000              0.130000   \n",
       "25%     88.000000       1.742500    1.205000              0.270000   \n",
       "50%     98.000000       2.355000    2.135000              0.340000   \n",
       "75%    107.000000       2.800000    2.875000              0.437500   \n",
       "max    162.000000       3.880000    5.080000              0.660000   \n",
       "\n",
       "       Proanthocyanins  Color intensity         Hue  \\\n",
       "count       178.000000       178.000000  178.000000   \n",
       "mean          1.590899         5.058090    0.957449   \n",
       "std           0.572359         2.318286    0.228572   \n",
       "min           0.410000         1.280000    0.480000   \n",
       "25%           1.250000         3.220000    0.782500   \n",
       "50%           1.555000         4.690000    0.965000   \n",
       "75%           1.950000         6.200000    1.120000   \n",
       "max           3.580000        13.000000    1.710000   \n",
       "\n",
       "       OD280/OD315 of diluted wines      Proline  \n",
       "count                    178.000000   178.000000  \n",
       "mean                       2.611685   746.893258  \n",
       "std                        0.709990   314.907474  \n",
       "min                        1.270000   278.000000  \n",
       "25%                        1.937500   500.500000  \n",
       "50%                        2.780000   673.500000  \n",
       "75%                        3.170000   985.000000  \n",
       "max                        4.000000  1680.000000  "
      ]
     },
     "execution_count": 5,
     "metadata": {},
     "output_type": "execute_result"
    }
   ],
   "source": [
    "base.describe()"
   ]
  },
  {
   "cell_type": "markdown",
   "metadata": {},
   "source": [
    "## Carregando os dados"
   ]
  },
  {
   "cell_type": "code",
   "execution_count": 6,
   "metadata": {},
   "outputs": [],
   "source": [
    "X = base.iloc[:,1:14].values\n",
    "y = base.iloc[:,0].values"
   ]
  },
  {
   "cell_type": "markdown",
   "metadata": {},
   "source": [
    "### Normalização dos dados"
   ]
  },
  {
   "cell_type": "code",
   "execution_count": 7,
   "metadata": {},
   "outputs": [],
   "source": [
    "from sklearn.preprocessing import MinMaxScaler\n",
    "normalizador = MinMaxScaler(feature_range = (0,1))\n",
    "X = normalizador.fit_transform(X)"
   ]
  },
  {
   "cell_type": "markdown",
   "metadata": {},
   "source": [
    "### Construção do SOM"
   ]
  },
  {
   "cell_type": "markdown",
   "metadata": {},
   "source": [
    "O algoritmo de Kohonen foi desenvolvido por Teuvo Kohonen em 1982, sendo considerado relativamente simples e com a capacidade de organizar dimensionalmente dados complexos em grupos (clusters), de acordo com suas relações. Este método solicita apenas os parâmetros de entrada, mostrando-se ideal para problemas onde os padrões são desconhecidos ou indeterminados.\n",
    "<a href='https://pt.wikipedia.org/wiki/Mapas_de_Kohonen#/media/Ficheiro:TrainSOM.gif'>  <img src='440px-TrainSOM.gif' /></a>\n"
   ]
  },
  {
   "cell_type": "code",
   "execution_count": 8,
   "metadata": {},
   "outputs": [],
   "source": [
    "som = MiniSom(x = 10, y = 10, input_len = 13, sigma = 1.0, learning_rate = 0.9, random_seed = 2)\n",
    "som.random_weights_init(X)\n",
    "som.train_random(data = X, num_iteration = 100000)"
   ]
  },
  {
   "cell_type": "markdown",
   "metadata": {},
   "source": [
    "#### Topologia da Rede"
   ]
  },
  {
   "cell_type": "markdown",
   "metadata": {},
   "source": [
    "Os SOMs  têm duas camadas, a primeira é a camada de entrada e a segunda é a camada de saída ou o mapa de características. Ao contrário de outros tipos de RNA, SOM não tem função de ativação em neurônios, passamos pesos diretamente para a camada de saída sem fazer nada. Cada neurônio em um SOM é atribuído a um vetor de peso com a mesma dimensionalidade d do espaço de entrada. <a href='https://towardsdatascience.com/analyzing-climate-patterns-with-self-organizing-maps-soms-8d4ef322705b'> <img src='Mapa.png'/> </a>"
   ]
  },
  {
   "cell_type": "code",
   "execution_count": 9,
   "metadata": {},
   "outputs": [
    {
     "data": {
      "text/plain": [
       "array([[1.22538364, 1.03003761, 1.17473363, 1.22136702, 0.91586352,\n",
       "        0.73673057, 0.63856531, 0.49197628, 0.41342832, 0.45560203],\n",
       "       [1.09613666, 1.31694012, 1.21376331, 1.26388518, 0.84185765,\n",
       "        0.69203331, 0.61903705, 0.68263436, 0.50877915, 0.02168895],\n",
       "       [1.31517609, 1.38941665, 1.30512404, 1.56474375, 1.07184867,\n",
       "        0.87851983, 0.64203335, 0.69713161, 0.64716031, 0.58103107],\n",
       "       [1.39322468, 1.42533009, 1.47036812, 1.23268846, 1.39751908,\n",
       "        1.0563461 , 0.8800464 , 0.74305553, 0.59973393, 0.83897502],\n",
       "       [1.28950231, 1.39654889, 1.34564207, 1.36071959, 1.47397004,\n",
       "        0.96094565, 0.67044911, 0.82473836, 0.65413795, 0.80077821],\n",
       "       [1.67273915, 1.49425635, 1.4164412 , 1.52995842, 1.61304177,\n",
       "        1.5263213 , 1.03894464, 0.88164449, 0.89289776, 1.0501111 ],\n",
       "       [1.37002838, 1.1845554 , 1.54280601, 1.85714621, 1.89358989,\n",
       "        1.55830606, 1.6802781 , 1.46701571, 1.48863485, 1.56323812],\n",
       "       [1.60151101, 1.48343332, 1.53800003, 1.55673208, 1.57115883,\n",
       "        1.54745137, 1.50625583, 1.58565346, 1.51900769, 1.55164421],\n",
       "       [1.51261073, 1.4907463 , 1.46733226, 1.62140811, 1.64567747,\n",
       "        1.70621471, 1.63008148, 1.53273513, 1.626864  , 1.64632047],\n",
       "       [1.65257926, 1.65148404, 1.52103741, 1.58626199, 1.60206228,\n",
       "        1.7023569 , 1.40151237, 1.46615274, 1.58414071, 1.57844688]])"
      ]
     },
     "execution_count": 9,
     "metadata": {},
     "output_type": "execute_result"
    }
   ],
   "source": [
    "som._activation_map"
   ]
  },
  {
   "cell_type": "markdown",
   "metadata": {},
   "source": [
    "#### Pesos do SOM"
   ]
  },
  {
   "cell_type": "code",
   "execution_count": 10,
   "metadata": {},
   "outputs": [
    {
     "data": {
      "text/plain": [
       "array([[[0.3369704 , 0.19982683, 0.27639856, ..., 0.58306901,\n",
       "         0.69366651, 0.26692209],\n",
       "        [0.51764488, 0.06218123, 0.20737729, ..., 0.5295601 ,\n",
       "         0.69618877, 0.16510391],\n",
       "        [0.25081934, 0.07118012, 0.50974371, ..., 0.41800279,\n",
       "         0.68243341, 0.4233637 ],\n",
       "        ...,\n",
       "        [0.74903038, 0.23703748, 0.51882957, ..., 0.56827074,\n",
       "         0.64884563, 0.87812521],\n",
       "        [0.82256951, 0.19619667, 0.56966455, ..., 0.49338154,\n",
       "         0.59273498, 0.83695591],\n",
       "        [0.97151286, 0.19586443, 0.55106537, ..., 0.62132067,\n",
       "         0.53865756, 0.63367927]],\n",
       "\n",
       "       [[0.35230214, 0.07473446, 0.40904229, ..., 0.53334976,\n",
       "         0.57371249, 0.18372935],\n",
       "        [0.33565285, 0.06095401, 0.39154402, ..., 0.6538034 ,\n",
       "         0.65448479, 0.07076544],\n",
       "        [0.17456907, 0.09351003, 0.6932217 , ..., 0.35175265,\n",
       "         0.70891372, 0.25163513],\n",
       "        ...,\n",
       "        [0.67540831, 0.19773617, 0.58544208, ..., 0.41235475,\n",
       "         0.65394846, 0.60741678],\n",
       "        [0.77758748, 0.2060918 , 0.58205866, ..., 0.38792767,\n",
       "         0.73725345, 0.72006382],\n",
       "        [0.87711359, 0.22237553, 0.54536565, ..., 0.57937916,\n",
       "         0.63528174, 0.89690815]],\n",
       "\n",
       "       [[0.3686651 , 0.15344422, 0.48693445, ..., 0.19145239,\n",
       "         0.57412582, 0.05768406],\n",
       "        [0.28419914, 0.13353204, 0.30546452, ..., 0.33090691,\n",
       "         0.58368456, 0.04622231],\n",
       "        [0.19998919, 0.31907784, 0.57116635, ..., 0.26704145,\n",
       "         0.76918045, 0.19190802],\n",
       "        ...,\n",
       "        [0.79666294, 0.18498698, 0.49909284, ..., 0.40599617,\n",
       "         0.79058569, 0.48354863],\n",
       "        [0.74967088, 0.15610785, 0.50161044, ..., 0.39386807,\n",
       "         0.81626738, 0.54417392],\n",
       "        [0.54416207, 0.19564602, 0.37213497, ..., 0.51474527,\n",
       "         0.61125878, 0.62156881]],\n",
       "\n",
       "       ...,\n",
       "\n",
       "       [[0.00624476, 0.15166916, 0.45122628, ..., 0.99147328,\n",
       "         0.58623972, 0.09500148],\n",
       "        [0.29264761, 0.15714299, 0.54950684, ..., 0.72723042,\n",
       "         0.36344955, 0.1201615 ],\n",
       "        [0.24109676, 0.38420222, 0.7881906 , ..., 0.57028136,\n",
       "         0.43076801, 0.22872739],\n",
       "        ...,\n",
       "        [0.5490901 , 0.45204839, 0.50180719, ..., 0.16811092,\n",
       "         0.1609916 , 0.25054424],\n",
       "        [0.34104136, 0.59514606, 0.46015798, ..., 0.13868992,\n",
       "         0.24734132, 0.39162523],\n",
       "        [0.47928727, 0.13243211, 0.5143912 , ..., 0.22664775,\n",
       "         0.01055595, 0.25106067]],\n",
       "\n",
       "       [[0.21744354, 0.14305936, 0.60640883, ..., 0.63275334,\n",
       "         0.67595991, 0.2236425 ],\n",
       "        [0.10954485, 0.01146756, 0.60750327, ..., 0.50858616,\n",
       "         0.39409125, 0.11629229],\n",
       "        [0.17275188, 0.26116419, 0.5846864 , ..., 0.42178997,\n",
       "         0.53049747, 0.27953648],\n",
       "        ...,\n",
       "        [0.72263186, 0.58983252, 0.55347467, ..., 0.0771853 ,\n",
       "         0.13701575, 0.18519174],\n",
       "        [0.55516876, 0.49320995, 0.60395768, ..., 0.05663668,\n",
       "         0.03654085, 0.16661544],\n",
       "        [0.46322481, 0.42098721, 0.55166738, ..., 0.18885178,\n",
       "         0.02617246, 0.20708789]],\n",
       "\n",
       "       [[0.20212186, 0.27087213, 0.75268496, ..., 0.40463166,\n",
       "         0.43769808, 0.1362753 ],\n",
       "        [0.35918101, 0.34513295, 0.49287583, ..., 0.31754759,\n",
       "         0.72058018, 0.03376112],\n",
       "        [0.32891762, 0.18846368, 0.51258636, ..., 0.44301797,\n",
       "         0.37878935, 0.14455806],\n",
       "        ...,\n",
       "        [0.65692672, 0.47088479, 0.67883432, ..., 0.22940926,\n",
       "         0.15547135, 0.31967427],\n",
       "        [0.62082976, 0.74028886, 0.79220617, ..., 0.15188336,\n",
       "         0.22604675, 0.24712318],\n",
       "        [0.54694723, 0.23389728, 0.74168793, ..., 0.10677537,\n",
       "         0.0231737 , 0.10659285]]])"
      ]
     },
     "execution_count": 10,
     "metadata": {},
     "output_type": "execute_result"
    }
   ],
   "source": [
    "som._weights"
   ]
  },
  {
   "cell_type": "markdown",
   "metadata": {},
   "source": [
    "## Visualizção dos Dados"
   ]
  },
  {
   "cell_type": "markdown",
   "metadata": {},
   "source": [
    "### Visualização de quantas vezes determinado neurônio foi ativado"
   ]
  },
  {
   "cell_type": "markdown",
   "metadata": {},
   "source": [
    "**Competição:**\n",
    "Como dissemos antes, a cada neurônio em um SOM é atribuído um vetor de peso com a mesma dimensionalidade do espaço de entrada.\n",
    "No exemplo abaixo, em cada neurônio da camada de saída teremos um vetor com dimensão n.\n",
    "Calculamos a distância entre cada neurônio (neurônio da camada de saída) e os dados de entrada, e o neurônio com a menor distância será o vencedor da competição. \n",
    "\n",
    "A métrica euclidiana ***dj*** é comumente usada para medir distâncias: $$\\ d_j =\\sum_{i=1}^n(x_i-w_{ij})^2$$\n",
    "\n",
    "<a href=https://towardsdatascience.com/self-organizing-maps-1b7d2a84e065> <img src='competicao.png'/> </a>\n"
   ]
  },
  {
   "cell_type": "code",
   "execution_count": 11,
   "metadata": {},
   "outputs": [
    {
     "data": {
      "text/plain": [
       "array([[3., 1., 1., 1., 1., 2., 2., 2., 3., 1.],\n",
       "       [2., 3., 2., 1., 1., 2., 3., 1., 3., 1.],\n",
       "       [1., 2., 3., 1., 2., 4., 2., 4., 3., 1.],\n",
       "       [1., 2., 1., 1., 2., 1., 2., 2., 1., 1.],\n",
       "       [2., 4., 3., 2., 1., 1., 1., 1., 3., 1.],\n",
       "       [1., 1., 1., 1., 1., 1., 2., 3., 2., 1.],\n",
       "       [1., 2., 1., 2., 1., 1., 2., 1., 1., 1.],\n",
       "       [1., 2., 1., 5., 1., 1., 2., 3., 1., 1.],\n",
       "       [3., 1., 1., 2., 2., 2., 1., 3., 3., 3.],\n",
       "       [1., 1., 4., 3., 3., 1., 2., 3., 1., 1.]])"
      ]
     },
     "execution_count": 11,
     "metadata": {},
     "output_type": "execute_result"
    }
   ],
   "source": [
    "q = som.activation_response(X)\n",
    "q"
   ]
  },
  {
   "cell_type": "markdown",
   "metadata": {},
   "source": [
    "\n",
    "### MID - distância média entre neurônios"
   ]
  },
  {
   "cell_type": "code",
   "execution_count": 12,
   "metadata": {},
   "outputs": [
    {
     "data": {
      "text/plain": [
       "<matplotlib.colorbar.Colorbar at 0x7fd0882a53d0>"
      ]
     },
     "execution_count": 12,
     "metadata": {},
     "output_type": "execute_result"
    },
    {
     "data": {
      "image/png": "[encoded data removed]",
      "text/plain": [
       "<Figure size 432x288 with 2 Axes>"
      ]
     },
     "metadata": {
      "needs_background": "light"
     },
     "output_type": "display_data"
    }
   ],
   "source": [
    "from matplotlib.pylab import pcolor, colorbar, plot, plt\n",
    "pcolor(som.distance_map().T)\n",
    "# MID - mean inter neuron distance\n",
    "colorbar()"
   ]
  },
  {
   "cell_type": "markdown",
   "metadata": {},
   "source": [
    "### Regiões de ativação (classe)"
   ]
  },
  {
   "cell_type": "code",
   "execution_count": 13,
   "metadata": {},
   "outputs": [],
   "source": [
    "markers = ['o', 's', 'D']\n",
    "color = ['r', 'g', 'b']\n",
    "y[y == 1] = 0\n",
    "y[y == 2] = 1\n",
    "y[y == 3] = 2"
   ]
  },
  {
   "cell_type": "code",
   "execution_count": 14,
   "metadata": {},
   "outputs": [
    {
     "data": {
      "image/png": "[encoded data removed]",
      "text/plain": [
       "<Figure size 432x288 with 1 Axes>"
      ]
     },
     "metadata": {
      "needs_background": "light"
     },
     "output_type": "display_data"
    }
   ],
   "source": [
    "for i, x in enumerate(X):\n",
    "    #print(i)\n",
    "    #print(x)\n",
    "    w = som.winner(x)\n",
    "    #print(w)\n",
    "    plot(w[0] + 0.5, w[1] + 0.5, markers[y[i]],\n",
    "         markerfacecolor = 'None', markersize = 10,\n",
    "         markeredgecolor = color[y[i]], markeredgewidth = 2)"
   ]
  },
  {
   "cell_type": "code",
   "execution_count": 15,
   "metadata": {},
   "outputs": [
    {
     "name": "stdout",
     "output_type": "stream",
     "text": [
      "(8, 7)\n"
     ]
    }
   ],
   "source": [
    "w = som.winner(X[148])  #Características do vinho da 3 linha do dataset ativa o neurônio representado pelos índices de w\n",
    "print(w)"
   ]
  },
  {
   "cell_type": "code",
   "execution_count": 16,
   "metadata": {},
   "outputs": [
    {
     "data": {
      "image/png": "[encoded data removed]",
      "text/plain": [
       "<Figure size 576x360 with 2 Axes>"
      ]
     },
     "metadata": {
      "needs_background": "light"
     },
     "output_type": "display_data"
    }
   ],
   "source": [
    "import matplotlib.patches as mpatches\n",
    "red_patch = mpatches.Patch(color='red', label='Class_3')\n",
    "blue_patch = mpatches.Patch(color='blue', label='Class_1')\n",
    "green_patch = mpatches.Patch(color='green', label='Class_2')\n",
    "\n",
    "\n",
    "plt.figure(figsize=(8,5))\n",
    "plt.title('SOM')\n",
    "plt.pcolor(som.distance_map().T) # Mapa de distância como background\n",
    "plt.colorbar()\n",
    "\n",
    "for cnt,xx in enumerate(X):\n",
    "    w = som.winner(xx) # Definindo o neurônio\n",
    "    plt.plot(w[0]+.5,w[1]+.5,markers[y[cnt]],markerfacecolor='None',\n",
    "             markeredgecolor=color[y[cnt]],markersize=12,markeredgewidth=2)\n",
    "    \n",
    "plt.axis([0,som.get_weights().shape[0],0,som.get_weights().shape[1]])\n",
    "plt.legend(handles=[red_patch, blue_patch,green_patch])\n",
    "plt.show() "
   ]
  },
  {
   "cell_type": "code",
   "execution_count": null,
   "metadata": {},
   "outputs": [],
   "source": []
  }
 ],
 "metadata": {
  "kernelspec": {
   "display_name": "Python 3 (ipykernel)",
   "language": "python",
   "name": "python3"
  },
  "language_info": {
   "codemirror_mode": {
    "name": "ipython",
    "version": 3
   },
   "file_extension": ".py",
   "mimetype": "text/x-python",
   "name": "python",
   "nbconvert_exporter": "python",
   "pygments_lexer": "ipython3",
   "version": "3.9.12"
  }
 },
 "nbformat": 4,
 "nbformat_minor": 2
}
