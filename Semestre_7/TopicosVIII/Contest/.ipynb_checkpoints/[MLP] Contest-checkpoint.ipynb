{
 "cells": [
  {
   "cell_type": "code",
   "execution_count": 19,
   "metadata": {
    "id": "9x2gvCEb2Fru"
   },
   "outputs": [],
   "source": [
    "import pandas as pd\n",
    "import numpy as np\n",
    "import matplotlib.pyplot as plt\n",
    "import seaborn as sns\n",
    "import plotly.graph_objects as go\n",
    "import plotly.express as px\n",
    "from random import randint\n",
    "from sklearn.preprocessing import RobustScaler # to scale the data\n",
    "from sklearn.ensemble import RandomForestClassifier as rf # our classifier\n",
    "from sklearn.model_selection import train_test_split as tts\n",
    "from sklearn.metrics import recall_score as rec\n",
    "from sklearn.metrics import precision_score as prec\n",
    "from sklearn.metrics import  accuracy_score as acc\n",
    "import warnings\n",
    "warnings.filterwarnings('ignore')"
   ]
  },
  {
   "cell_type": "code",
   "execution_count": 20,
   "metadata": {
    "id": "5V587_kx2W6e"
   },
   "outputs": [],
   "source": [
    "urlData = f\"https://docs.google.com/spreadsheets/d/1Q1wIk9mbHOcvHTUebyGHT3Q4teCnpjJ5YRd5F92DSG0/gviz/tq?tqx=out:csv&sheet=adult_data\"\n",
    "urlTest = f\"https://docs.google.com/spreadsheets/d/1Mhp_tjVM2E7HfRS9_yJoJAKW8c2oWYJ93UYWMvXF4dE/gviz/tq?tqx=out:csv&sheet=adult_test\"\n",
    "\n",
    "\n",
    "df = pd.read_csv(urlData)\n",
    "dfTest = pd.read_csv(urlTest)\n",
    "\n",
    "df = df.append(dfTest, ignore_index = True)"
   ]
  },
  {
   "cell_type": "code",
   "execution_count": 21,
   "metadata": {
    "colab": {
     "base_uri": "https://localhost:8080/",
     "height": 467
    },
    "executionInfo": {
     "elapsed": 38,
     "status": "ok",
     "timestamp": 1657571994566,
     "user": {
      "displayName": "Alisson Luan de Lima Peloso",
      "userId": "13242966935980600049"
     },
     "user_tz": 180
    },
    "id": "CGQjoyo22-UZ",
    "outputId": "408511be-8fb0-4746-e2ab-6b5410e14e60"
   },
   "outputs": [
    {
     "data": {
      "text/html": [
       "<div>\n",
       "<style scoped>\n",
       "    .dataframe tbody tr th:only-of-type {\n",
       "        vertical-align: middle;\n",
       "    }\n",
       "\n",
       "    .dataframe tbody tr th {\n",
       "        vertical-align: top;\n",
       "    }\n",
       "\n",
       "    .dataframe thead th {\n",
       "        text-align: right;\n",
       "    }\n",
       "</style>\n",
       "<table border=\"1\" class=\"dataframe\">\n",
       "  <thead>\n",
       "    <tr style=\"text-align: right;\">\n",
       "      <th></th>\n",
       "      <th>age</th>\n",
       "      <th>workclass</th>\n",
       "      <th>fnlwgt</th>\n",
       "      <th>education</th>\n",
       "      <th>education-num</th>\n",
       "      <th>marital-status</th>\n",
       "      <th>occupation</th>\n",
       "      <th>relationship</th>\n",
       "      <th>race</th>\n",
       "      <th>sex</th>\n",
       "      <th>capital-gain</th>\n",
       "      <th>capital-loss</th>\n",
       "      <th>hours-per-week</th>\n",
       "      <th>native-country</th>\n",
       "      <th>outcome</th>\n",
       "    </tr>\n",
       "  </thead>\n",
       "  <tbody>\n",
       "    <tr>\n",
       "      <th>0</th>\n",
       "      <td>39</td>\n",
       "      <td>State-gov</td>\n",
       "      <td>77516</td>\n",
       "      <td>Bachelors</td>\n",
       "      <td>13</td>\n",
       "      <td>Never-married</td>\n",
       "      <td>Adm-clerical</td>\n",
       "      <td>Not-in-family</td>\n",
       "      <td>White</td>\n",
       "      <td>Male</td>\n",
       "      <td>2174</td>\n",
       "      <td>0</td>\n",
       "      <td>40</td>\n",
       "      <td>United-States</td>\n",
       "      <td>&lt;=50K</td>\n",
       "    </tr>\n",
       "    <tr>\n",
       "      <th>1</th>\n",
       "      <td>50</td>\n",
       "      <td>Self-emp-not-inc</td>\n",
       "      <td>83311</td>\n",
       "      <td>Bachelors</td>\n",
       "      <td>13</td>\n",
       "      <td>Married-civ-spouse</td>\n",
       "      <td>Exec-managerial</td>\n",
       "      <td>Husband</td>\n",
       "      <td>White</td>\n",
       "      <td>Male</td>\n",
       "      <td>0</td>\n",
       "      <td>0</td>\n",
       "      <td>13</td>\n",
       "      <td>United-States</td>\n",
       "      <td>&lt;=50K</td>\n",
       "    </tr>\n",
       "    <tr>\n",
       "      <th>2</th>\n",
       "      <td>38</td>\n",
       "      <td>Private</td>\n",
       "      <td>215646</td>\n",
       "      <td>HS-grad</td>\n",
       "      <td>9</td>\n",
       "      <td>Divorced</td>\n",
       "      <td>Handlers-cleaners</td>\n",
       "      <td>Not-in-family</td>\n",
       "      <td>White</td>\n",
       "      <td>Male</td>\n",
       "      <td>0</td>\n",
       "      <td>0</td>\n",
       "      <td>40</td>\n",
       "      <td>United-States</td>\n",
       "      <td>&lt;=50K</td>\n",
       "    </tr>\n",
       "    <tr>\n",
       "      <th>3</th>\n",
       "      <td>53</td>\n",
       "      <td>Private</td>\n",
       "      <td>234721</td>\n",
       "      <td>11th</td>\n",
       "      <td>7</td>\n",
       "      <td>Married-civ-spouse</td>\n",
       "      <td>Handlers-cleaners</td>\n",
       "      <td>Husband</td>\n",
       "      <td>Black</td>\n",
       "      <td>Male</td>\n",
       "      <td>0</td>\n",
       "      <td>0</td>\n",
       "      <td>40</td>\n",
       "      <td>United-States</td>\n",
       "      <td>&lt;=50K</td>\n",
       "    </tr>\n",
       "    <tr>\n",
       "      <th>4</th>\n",
       "      <td>28</td>\n",
       "      <td>Private</td>\n",
       "      <td>338409</td>\n",
       "      <td>Bachelors</td>\n",
       "      <td>13</td>\n",
       "      <td>Married-civ-spouse</td>\n",
       "      <td>Prof-specialty</td>\n",
       "      <td>Wife</td>\n",
       "      <td>Black</td>\n",
       "      <td>Female</td>\n",
       "      <td>0</td>\n",
       "      <td>0</td>\n",
       "      <td>40</td>\n",
       "      <td>Cuba</td>\n",
       "      <td>&lt;=50K</td>\n",
       "    </tr>\n",
       "    <tr>\n",
       "      <th>...</th>\n",
       "      <td>...</td>\n",
       "      <td>...</td>\n",
       "      <td>...</td>\n",
       "      <td>...</td>\n",
       "      <td>...</td>\n",
       "      <td>...</td>\n",
       "      <td>...</td>\n",
       "      <td>...</td>\n",
       "      <td>...</td>\n",
       "      <td>...</td>\n",
       "      <td>...</td>\n",
       "      <td>...</td>\n",
       "      <td>...</td>\n",
       "      <td>...</td>\n",
       "      <td>...</td>\n",
       "    </tr>\n",
       "    <tr>\n",
       "      <th>48837</th>\n",
       "      <td>39</td>\n",
       "      <td>Private</td>\n",
       "      <td>215419</td>\n",
       "      <td>Bachelors</td>\n",
       "      <td>13</td>\n",
       "      <td>Divorced</td>\n",
       "      <td>Prof-specialty</td>\n",
       "      <td>Not-in-family</td>\n",
       "      <td>White</td>\n",
       "      <td>Female</td>\n",
       "      <td>0</td>\n",
       "      <td>0</td>\n",
       "      <td>36</td>\n",
       "      <td>United-States</td>\n",
       "      <td>&lt;=50K.</td>\n",
       "    </tr>\n",
       "    <tr>\n",
       "      <th>48838</th>\n",
       "      <td>64</td>\n",
       "      <td>?</td>\n",
       "      <td>321403</td>\n",
       "      <td>HS-grad</td>\n",
       "      <td>9</td>\n",
       "      <td>Widowed</td>\n",
       "      <td>?</td>\n",
       "      <td>Other-relative</td>\n",
       "      <td>Black</td>\n",
       "      <td>Male</td>\n",
       "      <td>0</td>\n",
       "      <td>0</td>\n",
       "      <td>40</td>\n",
       "      <td>United-States</td>\n",
       "      <td>&lt;=50K.</td>\n",
       "    </tr>\n",
       "    <tr>\n",
       "      <th>48839</th>\n",
       "      <td>38</td>\n",
       "      <td>Private</td>\n",
       "      <td>374983</td>\n",
       "      <td>Bachelors</td>\n",
       "      <td>13</td>\n",
       "      <td>Married-civ-spouse</td>\n",
       "      <td>Prof-specialty</td>\n",
       "      <td>Husband</td>\n",
       "      <td>White</td>\n",
       "      <td>Male</td>\n",
       "      <td>0</td>\n",
       "      <td>0</td>\n",
       "      <td>50</td>\n",
       "      <td>United-States</td>\n",
       "      <td>&lt;=50K.</td>\n",
       "    </tr>\n",
       "    <tr>\n",
       "      <th>48840</th>\n",
       "      <td>44</td>\n",
       "      <td>Private</td>\n",
       "      <td>83891</td>\n",
       "      <td>Bachelors</td>\n",
       "      <td>13</td>\n",
       "      <td>Divorced</td>\n",
       "      <td>Adm-clerical</td>\n",
       "      <td>Own-child</td>\n",
       "      <td>Asian-Pac-Islander</td>\n",
       "      <td>Male</td>\n",
       "      <td>5455</td>\n",
       "      <td>0</td>\n",
       "      <td>40</td>\n",
       "      <td>United-States</td>\n",
       "      <td>&lt;=50K.</td>\n",
       "    </tr>\n",
       "    <tr>\n",
       "      <th>48841</th>\n",
       "      <td>35</td>\n",
       "      <td>Self-emp-inc</td>\n",
       "      <td>182148</td>\n",
       "      <td>Bachelors</td>\n",
       "      <td>13</td>\n",
       "      <td>Married-civ-spouse</td>\n",
       "      <td>Exec-managerial</td>\n",
       "      <td>Husband</td>\n",
       "      <td>White</td>\n",
       "      <td>Male</td>\n",
       "      <td>0</td>\n",
       "      <td>0</td>\n",
       "      <td>60</td>\n",
       "      <td>United-States</td>\n",
       "      <td>&gt;50K.</td>\n",
       "    </tr>\n",
       "  </tbody>\n",
       "</table>\n",
       "<p>48842 rows × 15 columns</p>\n",
       "</div>"
      ],
      "text/plain": [
       "       age         workclass  fnlwgt  education  education-num  \\\n",
       "0       39         State-gov   77516  Bachelors             13   \n",
       "1       50  Self-emp-not-inc   83311  Bachelors             13   \n",
       "2       38           Private  215646    HS-grad              9   \n",
       "3       53           Private  234721       11th              7   \n",
       "4       28           Private  338409  Bachelors             13   \n",
       "...    ...               ...     ...        ...            ...   \n",
       "48837   39           Private  215419  Bachelors             13   \n",
       "48838   64                 ?  321403    HS-grad              9   \n",
       "48839   38           Private  374983  Bachelors             13   \n",
       "48840   44           Private   83891  Bachelors             13   \n",
       "48841   35      Self-emp-inc  182148  Bachelors             13   \n",
       "\n",
       "           marital-status         occupation    relationship  \\\n",
       "0           Never-married       Adm-clerical   Not-in-family   \n",
       "1      Married-civ-spouse    Exec-managerial         Husband   \n",
       "2                Divorced  Handlers-cleaners   Not-in-family   \n",
       "3      Married-civ-spouse  Handlers-cleaners         Husband   \n",
       "4      Married-civ-spouse     Prof-specialty            Wife   \n",
       "...                   ...                ...             ...   \n",
       "48837            Divorced     Prof-specialty   Not-in-family   \n",
       "48838             Widowed                  ?  Other-relative   \n",
       "48839  Married-civ-spouse     Prof-specialty         Husband   \n",
       "48840            Divorced       Adm-clerical       Own-child   \n",
       "48841  Married-civ-spouse    Exec-managerial         Husband   \n",
       "\n",
       "                     race     sex  capital-gain  capital-loss  hours-per-week  \\\n",
       "0                   White    Male          2174             0              40   \n",
       "1                   White    Male             0             0              13   \n",
       "2                   White    Male             0             0              40   \n",
       "3                   Black    Male             0             0              40   \n",
       "4                   Black  Female             0             0              40   \n",
       "...                   ...     ...           ...           ...             ...   \n",
       "48837               White  Female             0             0              36   \n",
       "48838               Black    Male             0             0              40   \n",
       "48839               White    Male             0             0              50   \n",
       "48840  Asian-Pac-Islander    Male          5455             0              40   \n",
       "48841               White    Male             0             0              60   \n",
       "\n",
       "      native-country outcome  \n",
       "0      United-States   <=50K  \n",
       "1      United-States   <=50K  \n",
       "2      United-States   <=50K  \n",
       "3      United-States   <=50K  \n",
       "4               Cuba   <=50K  \n",
       "...              ...     ...  \n",
       "48837  United-States  <=50K.  \n",
       "48838  United-States  <=50K.  \n",
       "48839  United-States  <=50K.  \n",
       "48840  United-States  <=50K.  \n",
       "48841  United-States   >50K.  \n",
       "\n",
       "[48842 rows x 15 columns]"
      ]
     },
     "execution_count": 21,
     "metadata": {},
     "output_type": "execute_result"
    }
   ],
   "source": [
    "df"
   ]
  },
  {
   "cell_type": "markdown",
   "metadata": {
    "id": "tXQSnlHN4bQ5"
   },
   "source": [
    "# Data Treatment\n"
   ]
  },
  {
   "cell_type": "code",
   "execution_count": 22,
   "metadata": {
    "colab": {
     "base_uri": "https://localhost:8080/"
    },
    "executionInfo": {
     "elapsed": 29,
     "status": "ok",
     "timestamp": 1657571994568,
     "user": {
      "displayName": "Alisson Luan de Lima Peloso",
      "userId": "13242966935980600049"
     },
     "user_tz": 180
    },
    "id": "vY620WbH3xQz",
    "outputId": "1e86593e-3804-4448-8dd8-169bc9f56055"
   },
   "outputs": [
    {
     "name": "stdout",
     "output_type": "stream",
     "text": [
      "How many NaN values by attribute:\n",
      "age               0\n",
      "workclass         0\n",
      "fnlwgt            0\n",
      "education         0\n",
      "education-num     0\n",
      "marital-status    0\n",
      "occupation        0\n",
      "relationship      0\n",
      "race              0\n",
      "sex               0\n",
      "capital-gain      0\n",
      "capital-loss      0\n",
      "hours-per-week    0\n",
      "native-country    0\n",
      "outcome           0\n",
      "dtype: int64\n",
      "How many 0 values by attribute:\n",
      "age                   0\n",
      "workclass             0\n",
      "fnlwgt                0\n",
      "education             0\n",
      "education-num         0\n",
      "marital-status        0\n",
      "occupation            0\n",
      "relationship          0\n",
      "race                  0\n",
      "sex                   0\n",
      "capital-gain      44807\n",
      "capital-loss      46560\n",
      "hours-per-week        0\n",
      "native-country        0\n",
      "outcome               0\n",
      "dtype: int64\n"
     ]
    }
   ],
   "source": [
    "print('How many NaN values by attribute:')\n",
    "print(df.isnull().sum())\n",
    "print('How many 0 values by attribute:')\n",
    "print((df==0).sum())"
   ]
  },
  {
   "cell_type": "markdown",
   "metadata": {
    "id": "HImbdNhs4ij2"
   },
   "source": [
    "## Replacing the label values"
   ]
  },
  {
   "cell_type": "code",
   "execution_count": 23,
   "metadata": {
    "id": "JHVCgs2R30Fp"
   },
   "outputs": [],
   "source": [
    "dataLabel = {'outcome' : {\n",
    "  \"<=50K\" : 0,\n",
    "  \">50K\" : 1\n",
    "}}\n",
    "df.replace(dataLabel, inplace=True)\n",
    "\n",
    "testLabel = {'outcome' : {\n",
    "  \"<=50K.\" : 0,\n",
    "  \">50K.\" : 1\n",
    "}}\n",
    "df.replace(testLabel, inplace=True)"
   ]
  },
  {
   "cell_type": "code",
   "execution_count": 24,
   "metadata": {
    "colab": {
     "base_uri": "https://localhost:8080/"
    },
    "executionInfo": {
     "elapsed": 69,
     "status": "ok",
     "timestamp": 1657571995048,
     "user": {
      "displayName": "Alisson Luan de Lima Peloso",
      "userId": "13242966935980600049"
     },
     "user_tz": 180
    },
    "id": "yTJwLtED5MOj",
    "outputId": "04d0b3fc-5d85-4c1d-c62c-001b8ab98490"
   },
   "outputs": [
    {
     "name": "stdout",
     "output_type": "stream",
     "text": [
      "How many ? values by attribute:\n",
      "age                  0\n",
      "workclass         2799\n",
      "fnlwgt               0\n",
      "education            0\n",
      "education-num        0\n",
      "marital-status       0\n",
      "occupation        2809\n",
      "relationship         0\n",
      "race                 0\n",
      "sex                  0\n",
      "capital-gain         0\n",
      "capital-loss         0\n",
      "hours-per-week       0\n",
      "native-country     857\n",
      "outcome              0\n",
      "dtype: int64\n"
     ]
    }
   ],
   "source": [
    "print('How many ? values by attribute:')\n",
    "print((df==\"?\").sum())"
   ]
  },
  {
   "cell_type": "markdown",
   "metadata": {
    "id": "Z4x5aBHc-Vsn"
   },
   "source": [
    "### Replacing \"?\" to the column mode"
   ]
  },
  {
   "cell_type": "code",
   "execution_count": 25,
   "metadata": {
    "colab": {
     "base_uri": "https://localhost:8080/"
    },
    "executionInfo": {
     "elapsed": 66,
     "status": "ok",
     "timestamp": 1657571995049,
     "user": {
      "displayName": "Alisson Luan de Lima Peloso",
      "userId": "13242966935980600049"
     },
     "user_tz": 180
    },
    "id": "gz47dx0x6AwJ",
    "outputId": "c1d7ea07-5784-425f-c237-804ba2d22028"
   },
   "outputs": [
    {
     "name": "stdout",
     "output_type": "stream",
     "text": [
      "age               0\n",
      "workclass         0\n",
      "fnlwgt            0\n",
      "education         0\n",
      "education-num     0\n",
      "marital-status    0\n",
      "occupation        0\n",
      "relationship      0\n",
      "race              0\n",
      "sex               0\n",
      "capital-gain      0\n",
      "capital-loss      0\n",
      "hours-per-week    0\n",
      "native-country    0\n",
      "outcome           0\n",
      "dtype: int64\n"
     ]
    },
    {
     "data": {
      "text/plain": [
       "age               0\n",
       "workclass         0\n",
       "fnlwgt            0\n",
       "education         0\n",
       "education-num     0\n",
       "marital-status    0\n",
       "occupation        0\n",
       "relationship      0\n",
       "race              0\n",
       "sex               0\n",
       "capital-gain      0\n",
       "capital-loss      0\n",
       "hours-per-week    0\n",
       "native-country    0\n",
       "outcome           0\n",
       "dtype: int64"
      ]
     },
     "execution_count": 25,
     "metadata": {},
     "output_type": "execute_result"
    }
   ],
   "source": [
    "for i in df.columns:\n",
    "  df[i] = df[i].replace(\"?\", df[i].mode()[0])\n",
    "\n",
    "print((df==\"?\").sum())\n",
    "df.isnull().sum()"
   ]
  },
  {
   "cell_type": "markdown",
   "metadata": {
    "id": "kCJ1WlTo-R64"
   },
   "source": [
    "# Transforming the qualitatives values in quantitative"
   ]
  },
  {
   "cell_type": "code",
   "execution_count": 26,
   "metadata": {
    "id": "MVZ8w5sE-ott"
   },
   "outputs": [],
   "source": [
    "from sklearn.preprocessing import LabelEncoder\n",
    "\n",
    "lb_make = LabelEncoder()\n",
    "df[\"workclass\"] = lb_make.fit_transform(df[\"workclass\"])\n",
    "\n",
    "df[\"marital-status\"] = lb_make.fit_transform(df[\"marital-status\"])\n",
    "\n",
    "df[\"occupation\"] = lb_make.fit_transform(df[\"occupation\"])\n",
    "\n",
    "df[\"relationship\"] = lb_make.fit_transform(df[\"relationship\"])\n",
    "\n",
    "df[\"race\"] = lb_make.fit_transform(df[\"race\"])\n",
    "\n",
    "df[\"sex\"] = lb_make.fit_transform(df[\"sex\"])\n",
    "\n",
    "df[\"native-country\"] = lb_make.fit_transform(df[\"native-country\"])\n",
    "\n",
    "df.drop(columns=['education'], inplace = True)\n",
    "\n",
    "#TODO: create a dictionary to associate labels to the code columns and drop the qualitative columns"
   ]
  },
  {
   "cell_type": "markdown",
   "metadata": {
    "id": "JcP5bhNG93DC"
   },
   "source": [
    "#Some Plots"
   ]
  },
  {
   "cell_type": "code",
   "execution_count": 27,
   "metadata": {
    "colab": {
     "base_uri": "https://localhost:8080/",
     "height": 248
    },
    "executionInfo": {
     "elapsed": 54,
     "status": "ok",
     "timestamp": 1657571995052,
     "user": {
      "displayName": "Alisson Luan de Lima Peloso",
      "userId": "13242966935980600049"
     },
     "user_tz": 180
    },
    "id": "0I00OKzj9fD5",
    "outputId": "8d1a910b-3ba1-4945-d3c4-8f615ed276ae"
   },
   "outputs": [
    {
     "data": {
      "image/png": "[encoded data removed]",
      "text/plain": [
       "<Figure size 432x288 with 1 Axes>"
      ]
     },
     "metadata": {},
     "output_type": "display_data"
    }
   ],
   "source": [
    "out_data=pd.DataFrame(df.groupby('outcome')['outcome'].count())\n",
    "colors = ['green','red']\n",
    "plt.pie(out_data['outcome'],labels=['<=50K','>50k'],autopct='%.0f%%',colors=colors,radius=1,explode = (0, 0.1),shadow=True)\n",
    "plt.legend()\n",
    "plt.show()"
   ]
  },
  {
   "cell_type": "code",
   "execution_count": 28,
   "metadata": {
    "id": "IsvB1dec-JI-"
   },
   "outputs": [],
   "source": [
    "# sns.set_style(style='darkgrid', rc={\"grid.color\": \".8\", \"grid.linestyle\": \"--\"})\n",
    "# df.hist(figsize = (20,20),bins=15,color='#ff7f50',edgecolor=\"black\")\n",
    "# plt.show()"
   ]
  },
  {
   "cell_type": "code",
   "execution_count": 29,
   "metadata": {
    "id": "5sFpePag-tBC"
   },
   "outputs": [],
   "source": [
    "# nbins=20\n",
    "# fig, ax = plt.subplots(5,3, figsize=(16,16))\n",
    "# sns.distplot(df['age'], bins = nbins, ax=ax[0,0] , color=\"red\") \n",
    "# sns.distplot(df['workclass'], bins = nbins, ax=ax[0,1], color=\"red\") \n",
    "# sns.distplot(df['fnlwgt'], bins = nbins, ax=ax[0,2], color=\"red\") \n",
    "# sns.distplot(df['education-num'], bins = nbins, ax=ax[1,0], color=\"black\")\n",
    "# sns.distplot(df['marital-status'], bins = nbins, ax=ax[1,1], color=\"black\")\n",
    "# sns.distplot(df['occupation'], bins = nbins, ax=ax[1,2], color=\"red\") \n",
    "# sns.distplot(df['relationship'], bins = nbins, ax=ax[2,0],color=\"red\")\n",
    "# sns.distplot(df['race'], bins = nbins, ax=ax[2,1],color=\"red\")\n",
    "# sns.distplot(df['sex'], bins = nbins, ax=ax[2,2],color=\"black\")\n",
    "# sns.distplot(df['capital-gain'], bins = nbins, ax=ax[3,0],color=\"black\")\n",
    "# sns.distplot(df['capital-loss'], bins = nbins, ax=ax[3,1],color=\"black\")\n",
    "# sns.distplot(df['hours-per-week'], bins = nbins, ax=ax[3,2],color=\"red\")\n",
    "# sns.distplot(df['native-country'], bins = nbins, ax=ax[4,0],color=\"red\")\n",
    "\n",
    "# plt.show()"
   ]
  },
  {
   "cell_type": "code",
   "execution_count": 30,
   "metadata": {
    "colab": {
     "base_uri": "https://localhost:8080/"
    },
    "executionInfo": {
     "elapsed": 50,
     "status": "ok",
     "timestamp": 1657571995059,
     "user": {
      "displayName": "Alisson Luan de Lima Peloso",
      "userId": "13242966935980600049"
     },
     "user_tz": 180
    },
    "id": "_LET5HUSJL41",
    "outputId": "7f20fcc4-e32c-4145-edd6-3e1046ae8fcf"
   },
   "outputs": [
    {
     "name": "stdout",
     "output_type": "stream",
     "text": [
      "capital-gain      11.894659\n",
      "capital-loss       4.569809\n",
      "fnlwgt             1.438892\n",
      "outcome            1.222216\n",
      "relationship       0.791719\n",
      "age                0.557580\n",
      "hours-per-week     0.238750\n",
      "workclass          0.083540\n",
      "occupation        -0.005192\n",
      "marital-status    -0.016328\n",
      "education-num     -0.316525\n",
      "sex               -0.715811\n",
      "race              -2.447813\n",
      "native-country    -4.275923\n",
      "dtype: float64\n"
     ]
    }
   ],
   "source": [
    "# Skewness os the attributes (the asymmetry of the probability distribution of a real-valued random variable about its mean)\n",
    "skCols = df.apply(lambda x:x.skew()).sort_values(ascending=False)\n",
    "print(skCols)"
   ]
  },
  {
   "cell_type": "code",
   "execution_count": 31,
   "metadata": {
    "id": "bknSEgyGJpfx"
   },
   "outputs": [],
   "source": [
    "# plt.figure(figsize=(10,5))\n",
    "# sns.countplot(df['age'])\n",
    "# plt.xticks(rotation='vertical')\n",
    "# plt.title(\"# of Examples by Age\",fontsize = 16)\n",
    "# plt.xlabel(\"age\")\n",
    "# plt.ylabel(\"Quantity\")\n",
    "# plt.tight_layout(pad=0.5)\n",
    "# plt.show()"
   ]
  },
  {
   "cell_type": "code",
   "execution_count": 32,
   "metadata": {
    "colab": {
     "base_uri": "https://localhost:8080/",
     "height": 525
    },
    "executionInfo": {
     "elapsed": 1499,
     "status": "ok",
     "timestamp": 1657571996527,
     "user": {
      "displayName": "Alisson Luan de Lima Peloso",
      "userId": "13242966935980600049"
     },
     "user_tz": 180
    },
    "id": "Mrw82A0yBteD",
    "outputId": "4af30c07-7c15-4f9d-e403-c5f8218f9be7"
   },
   "outputs": [
    {
     "data": {
      "image/png": "[encoded data removed]",
      "text/plain": [
       "<Figure size 1080x504 with 2 Axes>"
      ]
     },
     "metadata": {
      "needs_background": "light"
     },
     "output_type": "display_data"
    }
   ],
   "source": [
    "plt.figure(figsize = (15,7))\n",
    "\n",
    "df.corr()\n",
    "sns.heatmap(df.corr(),annot=True)\n",
    "plt.title(\"Attribute Correlation Heat Map\",fontsize = 16)\n",
    "plt.tight_layout(pad=0.5)\n",
    "plt.show()"
   ]
  },
  {
   "cell_type": "code",
   "execution_count": 33,
   "metadata": {
    "id": "MI5zqVo-A2mE"
   },
   "outputs": [],
   "source": [
    "# plt.figure(figsize=(12,20))\n",
    "# plt.suptitle(\"Plot Outliars\",fontsize=16)\n",
    "\n",
    "# plt.subplot(8,4,1)\n",
    "# sns.boxplot(data=df,x='age')\n",
    "\n",
    "# plt.subplot(8,4,2)\n",
    "# sns.boxplot(data=df,x='workclass')\n",
    "\n",
    "# plt.subplot(8,4,3)\n",
    "# sns.boxplot(data=df,x='fnlwgt')\n",
    "\n",
    "# plt.subplot(8,4,4)\n",
    "# sns.boxplot(data=df,x='education-num')\n",
    "\n",
    "# plt.subplot(8,4,5)\n",
    "# sns.boxplot(data=df,x='marital-status')\n",
    "\n",
    "# plt.subplot(8,4,6)\n",
    "# sns.boxplot(data=df,x='occupation')\n",
    "\n",
    "# plt.subplot(8,4,7)\n",
    "# sns.boxplot(data=df,x='relationship')\n",
    "\n",
    "# plt.subplot(8,4,8)\n",
    "# sns.boxplot(data=df,x='race')\n",
    "\n",
    "# plt.subplot(8,4,9)\n",
    "# sns.boxplot(data=df,x='sex')\n",
    "\n",
    "# plt.subplot(8,4,10)\n",
    "# sns.boxplot(data=df,x='capital-gain')\n",
    "\n",
    "# plt.subplot(8,4,11)\n",
    "# sns.boxplot(data=df,x='capital-loss')\n",
    "\n",
    "# plt.subplot(8,4,12)\n",
    "# sns.boxplot(data=df,x='hours-per-week')\n",
    "\n",
    "# plt.subplot(8,4,13)\n",
    "# sns.boxplot(data=df,x='native-country')\n",
    "\n",
    "\n",
    "# plt.tight_layout(pad=0.5)\n",
    "# plt.show()"
   ]
  },
  {
   "cell_type": "code",
   "execution_count": 34,
   "metadata": {
    "id": "erfFErYzEenl"
   },
   "outputs": [],
   "source": [
    "X = df.drop(columns=['outcome'])\n",
    "y = df['outcome']"
   ]
  },
  {
   "cell_type": "markdown",
   "metadata": {
    "id": "w1Fx_3Uku1aw"
   },
   "source": [
    "# PCA\n"
   ]
  },
  {
   "cell_type": "code",
   "execution_count": 35,
   "metadata": {
    "id": "MLcFUBQhu3hh"
   },
   "outputs": [],
   "source": [
    "from sklearn.decomposition import PCA\n",
    "\n",
    "pca = PCA(n_components='mle')\n",
    "pca.fit(X)\n",
    "X = pca.transform(X)"
   ]
  },
  {
   "cell_type": "code",
   "execution_count": 36,
   "metadata": {},
   "outputs": [],
   "source": [
    "X_train,X_test,y_train,y_test=tts(X, y ,test_size=0.33,random_state=777)"
   ]
  },
  {
   "cell_type": "markdown",
   "metadata": {
    "id": "wzJ7_dqvGe2T"
   },
   "source": [
    "# Build some models"
   ]
  },
  {
   "cell_type": "markdown",
   "metadata": {
    "id": "9xlS13dZzTEM"
   },
   "source": [
    "## MLP"
   ]
  },
  {
   "cell_type": "code",
   "execution_count": null,
   "metadata": {
    "id": "9IirmhPckpAS"
   },
   "outputs": [],
   "source": [
    "from sklearn.neural_network import MLPClassifier\n",
    "\n",
    "clf = MLPClassifier(hidden_layer_sizes=(500,), random_state=1, max_iter=300).fit(X_train, y_train)\n",
    "y_hat=clf.predict(X_test)\n",
    "\n",
    "accuracy = acc(y_test,y_hat)\n",
    "recall = rec(y_test,y_hat)\n",
    "precision = prec(y_test,y_hat)\n",
    "\n",
    "print('Raw Accuracy %.2f; Recall %.2f; Precision %.2f; F1-Score %.2f'%( accuracy, recall, precision, (2 * (precision * recall) / (precision + recall))))"
   ]
  },
  {
   "cell_type": "code",
   "execution_count": null,
   "metadata": {
    "id": "KVSy0Yo_sYxR"
   },
   "outputs": [],
   "source": []
  }
 ],
 "metadata": {
  "accelerator": "GPU",
  "colab": {
   "authorship_tag": "ABX9TyP0+4OnjOZAopYUc0EI+vs/",
   "collapsed_sections": [],
   "name": "[MLP] Contest.ipynb",
   "provenance": []
  },
  "gpuClass": "standard",
  "kernelspec": {
   "display_name": "Python 3 (ipykernel)",
   "language": "python",
   "name": "python3"
  },
  "language_info": {
   "codemirror_mode": {
    "name": "ipython",
    "version": 3
   },
   "file_extension": ".py",
   "mimetype": "text/x-python",
   "name": "python",
   "nbconvert_exporter": "python",
   "pygments_lexer": "ipython3",
   "version": "3.9.12"
  }
 },
 "nbformat": 4,
 "nbformat_minor": 1
}
